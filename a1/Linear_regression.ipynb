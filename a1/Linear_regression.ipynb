{
 "cells": [
  {
   "cell_type": "markdown",
   "metadata": {},
   "source": [
    "# Least squares"
   ]
  },
  {
   "cell_type": "code",
   "execution_count": 1,
   "metadata": {
    "deletable": false,
    "editable": false,
    "nbgrader": {
     "cell_type": "code",
     "checksum": "c761885983bb67597d5b71c35a0ec7dd",
     "grade": false,
     "grade_id": "cell-678763ad276cc09f",
     "locked": true,
     "schema_version": 3,
     "solution": false,
     "task": false
    }
   },
   "outputs": [],
   "source": [
    "import numpy as np\n",
    "import scipy\n",
    "from sklearn.metrics import mean_squared_error\n",
    "from sklearn import datasets\n",
    "from sklearn.linear_model import LinearRegression as LR\n",
    "\n",
    "def rel_error(x, y):\n",
    "  \"\"\" returns relative error \"\"\"\n",
    "  return np.max(np.abs(x - y) / (np.maximum(1e-8, np.abs(x) + np.abs(y))))\n",
    "\n",
    "data = datasets.load_diabetes()\n",
    "X_train, y_train = data.data, data.target"
   ]
  },
  {
   "cell_type": "code",
   "execution_count": 2,
   "metadata": {},
   "outputs": [],
   "source": [
    "import pandas as pd"
   ]
  },
  {
   "cell_type": "code",
   "execution_count": 3,
   "metadata": {
    "deletable": false,
    "nbgrader": {
     "cell_type": "code",
     "checksum": "18180df278e73e6f76e771368ec05383",
     "grade": false,
     "grade_id": "cell-b05eee3d44b96fa8",
     "locked": false,
     "schema_version": 3,
     "solution": true,
     "task": false
    }
   },
   "outputs": [],
   "source": [
    "def fit_inverse(X, y):\n",
    "    \"\"\"Direct method using the inverse\"\"\"\n",
    "    # YOUR CODE HERE\n",
    "    w = (((np.linalg.inv((np.transpose(X)).dot(X))).dot(np.transpose(X)))).dot(y)\n",
    "    \n",
    "    return w"
   ]
  },
  {
   "cell_type": "code",
   "execution_count": 4,
   "metadata": {
    "deletable": false,
    "editable": false,
    "nbgrader": {
     "cell_type": "code",
     "checksum": "b45c5a315079b0d1d6e8315caca1e8bc",
     "grade": true,
     "grade_id": "cell-8b04c4a277023f70",
     "locked": true,
     "points": 1,
     "schema_version": 3,
     "solution": false,
     "task": false
    }
   },
   "outputs": [
    {
     "name": "stdout",
     "output_type": "stream",
     "text": [
      "prediction error:  3.776169742623381e-14\n"
     ]
    }
   ],
   "source": [
    "w = fit_inverse(X_train, y_train)\n",
    "\n",
    "sk_model = LR(fit_intercept=False)\n",
    "sk_model.fit(X_train, y_train)\n",
    "\n",
    "error = rel_error(sk_model.coef_, w)\n",
    "assert error <= 1e-13\n",
    "print(\"prediction error: \", error)"
   ]
  },
  {
   "cell_type": "code",
   "execution_count": 5,
   "metadata": {
    "deletable": false,
    "nbgrader": {
     "cell_type": "code",
     "checksum": "0a8508caf7357c557a41778fb85eeed7",
     "grade": false,
     "grade_id": "cell-f47228b1d23c9c3d",
     "locked": false,
     "schema_version": 3,
     "solution": true,
     "task": false
    }
   },
   "outputs": [],
   "source": [
    "def fit_cholesky(X, y):\n",
    "    \"\"\" Cholesky approach \"\"\"\n",
    "    # YOUR CODE HERE\n",
    "    L = np.linalg.cholesky(np.transpose(X).dot(X))\n",
    "    \n",
    "    u = (np.transpose(X)).dot(y)\n",
    "    z1 = scipy.linalg.solve_triangular(L, u, lower=True)\n",
    "    w = scipy.linalg.solve_triangular(np.transpose(L), z1)\n",
    "    \n",
    "    return w"
   ]
  },
  {
   "cell_type": "code",
   "execution_count": 6,
   "metadata": {
    "deletable": false,
    "editable": false,
    "nbgrader": {
     "cell_type": "code",
     "checksum": "39571fbbebc2d0b2e4e8c9a0a9db3c34",
     "grade": true,
     "grade_id": "cell-9466dcbcbd7f8417",
     "locked": true,
     "points": 1,
     "schema_version": 3,
     "solution": false,
     "task": false
    }
   },
   "outputs": [
    {
     "name": "stdout",
     "output_type": "stream",
     "text": [
      "prediction error:  6.821014246451709e-14\n"
     ]
    }
   ],
   "source": [
    "w = fit_cholesky(X_train, y_train)\n",
    "\n",
    "sk_model = LR(fit_intercept=False)\n",
    "sk_model.fit(X_train, y_train)\n",
    "\n",
    "error = rel_error(sk_model.coef_, w)\n",
    "assert error <= 1e-13\n",
    "print(\"prediction error: \", error)"
   ]
  },
  {
   "cell_type": "code",
   "execution_count": 7,
   "metadata": {
    "deletable": false,
    "nbgrader": {
     "cell_type": "code",
     "checksum": "41468b8caec731fca738225716663970",
     "grade": false,
     "grade_id": "cell-2877dca319d8a6a7",
     "locked": false,
     "schema_version": 3,
     "solution": true,
     "task": false
    }
   },
   "outputs": [],
   "source": [
    "def fit_qr(X, y):\n",
    "    \"\"\" QR approach\"\"\"\n",
    "    # YOUR CODE HERE\n",
    "    (Q, R) = np.linalg.qr(X)\n",
    "    \n",
    "    z1 = (np.transpose(Q)).dot(y)\n",
    "    w = scipy.linalg.solve_triangular(R, z1, lower=False)\n",
    "    \n",
    "    return w"
   ]
  },
  {
   "cell_type": "code",
   "execution_count": 8,
   "metadata": {
    "deletable": false,
    "editable": false,
    "nbgrader": {
     "cell_type": "code",
     "checksum": "f611b7bf0cf2dec0116f24e2107febc5",
     "grade": true,
     "grade_id": "cell-31e8d5d1584d650a",
     "locked": true,
     "points": 1,
     "schema_version": 3,
     "solution": false,
     "task": false
    }
   },
   "outputs": [
    {
     "name": "stdout",
     "output_type": "stream",
     "text": [
      "prediction error:  8.516125015254192e-15\n"
     ]
    }
   ],
   "source": [
    "w = fit_qr(X_train, y_train)\n",
    "\n",
    "sk_model = LR(fit_intercept=False)\n",
    "sk_model.fit(X_train, y_train)\n",
    "\n",
    "error = rel_error(sk_model.coef_, w)\n",
    "assert error <= 1e-13\n",
    "print(\"prediction error: \", error)"
   ]
  },
  {
   "cell_type": "code",
   "execution_count": 9,
   "metadata": {
    "deletable": false,
    "nbgrader": {
     "cell_type": "code",
     "checksum": "92c365f396dd028620c0287625882ad7",
     "grade": false,
     "grade_id": "cell-5073cab85ff159fb",
     "locked": false,
     "schema_version": 3,
     "solution": true,
     "task": false
    }
   },
   "outputs": [],
   "source": [
    "def fit_svd(X, y):\n",
    "    \"\"\" SVD approach\"\"\"\n",
    "    # YOUR CODE HERE\n",
    "    (U, s, V) = np.linalg.svd(X)\n",
    "    z1 = np.transpose(U).dot(y)\n",
    "    \n",
    "    S = np.zeros((len(s), len(U)))\n",
    "    np.fill_diagonal(S, 1/s)\n",
    "    \n",
    "    z2 = S.dot(z1)\n",
    "    w = np.transpose(V).dot(z2)\n",
    "    \n",
    "    return w"
   ]
  },
  {
   "cell_type": "code",
   "execution_count": 10,
   "metadata": {
    "deletable": false,
    "editable": false,
    "nbgrader": {
     "cell_type": "code",
     "checksum": "2aae0f7dbc36ef688742fb7d4277e74a",
     "grade": true,
     "grade_id": "cell-e2714349e15197b8",
     "locked": true,
     "points": 1,
     "schema_version": 3,
     "solution": false,
     "task": false
    }
   },
   "outputs": [
    {
     "name": "stdout",
     "output_type": "stream",
     "text": [
      "prediction error:  1.8008056021839425e-14\n"
     ]
    }
   ],
   "source": [
    "w = fit_svd(X_train, y_train)\n",
    "\n",
    "sk_model = LR(fit_intercept=False)\n",
    "sk_model.fit(X_train, y_train)\n",
    "\n",
    "error = rel_error(sk_model.coef_, w)\n",
    "assert error <= 1e-13\n",
    "print(\"prediction error: \", error)"
   ]
  },
  {
   "cell_type": "markdown",
   "metadata": {},
   "source": [
    "## Combine everything in a class"
   ]
  },
  {
   "cell_type": "code",
   "execution_count": 11,
   "metadata": {
    "deletable": false,
    "nbgrader": {
     "cell_type": "code",
     "checksum": "93bcc6ce3d01eb1ae19e2674c2089dd0",
     "grade": false,
     "grade_id": "cell-6ec30d1a23311e34",
     "locked": false,
     "schema_version": 3,
     "solution": true,
     "task": false
    }
   },
   "outputs": [],
   "source": [
    "class LinearRegression():\n",
    "    def __init__(self, fit_intercept=True, method=\"inverse\"):\n",
    "        self.w = 0\n",
    "        self.fit_intercept = fit_intercept # bias\n",
    "        self.method = method\n",
    "    \n",
    "    def fit(self, X, y):\n",
    "        # YOUR CODE HERE\n",
    "        if self.fit_intercept:\n",
    "            tmp = np.ones((len(X),1))\n",
    "            X = np.append(tmp, X, axis = 1)\n",
    "                \n",
    "        if self.method == \"cholesky\":\n",
    "            self.w = fit_cholesky(X, y)\n",
    "        elif self.method == \"qr\":\n",
    "            self.w = fit_qr(X, y)\n",
    "        elif self.method == \"svd\":\n",
    "            self.w = fit_svd(X, y)\n",
    "        # self.method == \"inverse\"\n",
    "        else:\n",
    "            self.w = fit_inverse(X, y)\n",
    "            \n",
    "            \n",
    "    def predict(self, X):\n",
    "        # YOUR CODE HERE\n",
    "        if self.fit_intercept:\n",
    "            tmp = np.ones((len(X),1))\n",
    "            X = np.append(tmp, X, axis = 1)\n",
    "            \n",
    "        y = X.dot(self.w)\n",
    "        \n",
    "        return y"
   ]
  },
  {
   "cell_type": "markdown",
   "metadata": {},
   "source": [
    "### without the bias term"
   ]
  },
  {
   "cell_type": "code",
   "execution_count": 12,
   "metadata": {
    "deletable": false,
    "editable": false,
    "nbgrader": {
     "cell_type": "code",
     "checksum": "7e2566ac9fab2095026b65f7aaed149b",
     "grade": true,
     "grade_id": "cell-8f754988c3d8f3bd",
     "locked": true,
     "points": 1,
     "schema_version": 3,
     "solution": false,
     "task": false
    }
   },
   "outputs": [
    {
     "name": "stdout",
     "output_type": "stream",
     "text": [
      "prediction error:  1.2016286059583595e-12\n"
     ]
    }
   ],
   "source": [
    "# DIRECT INVERSE APPROACH\n",
    "sk_model = LR(fit_intercept=False)\n",
    "sk_model.fit(X_train, y_train)\n",
    "sk_pred = sk_model.predict(X_train)\n",
    "\n",
    "model = LinearRegression(fit_intercept=False)\n",
    "model.fit(X_train, y_train)\n",
    "pred = model.predict(X_train)\n",
    "\n",
    "error = rel_error(pred, sk_pred)\n",
    "assert error <= 1e-11\n",
    "print(\"prediction error: \", error)"
   ]
  },
  {
   "cell_type": "code",
   "execution_count": 13,
   "metadata": {
    "deletable": false,
    "editable": false,
    "nbgrader": {
     "cell_type": "code",
     "checksum": "cb9da4d324a63d4ac6ffa9b94a9862f6",
     "grade": true,
     "grade_id": "cell-b2f69e29babd5ffa",
     "locked": true,
     "points": 2,
     "schema_version": 3,
     "solution": false,
     "task": false
    }
   },
   "outputs": [
    {
     "name": "stdout",
     "output_type": "stream",
     "text": [
      "prediction error cholesky:  2.640941991114797e-13\n",
      "prediction error qr:  1.2823499602304161e-13\n",
      "prediction error svd:  2.640941991114797e-13\n"
     ]
    }
   ],
   "source": [
    "# OTHER APPROACHES\n",
    "sk_model = LR(fit_intercept=False)\n",
    "sk_model.fit(X_train, y_train)\n",
    "sk_pred = sk_model.predict(X_train)\n",
    "\n",
    "model_cholesky = LinearRegression(fit_intercept=False, method=\"cholesky\")\n",
    "model_cholesky.fit(X_train, y_train)\n",
    "pred_cholesky = model_cholesky.predict(X_train)\n",
    "\n",
    "error_cholesky = rel_error(pred_cholesky, sk_pred)\n",
    "assert error_cholesky <= 1e-11\n",
    "print(\"prediction error cholesky: \", error_cholesky)\n",
    "\n",
    "model_qr = LinearRegression(fit_intercept=False, method=\"qr\")\n",
    "model_qr.fit(X_train, y_train)\n",
    "pred_qr = model_qr.predict(X_train)\n",
    "\n",
    "error_qr = rel_error(pred_qr, sk_pred)\n",
    "assert error_qr <= 1e-11\n",
    "print(\"prediction error qr: \", error_qr)\n",
    "\n",
    "model_svd = LinearRegression(fit_intercept=False, method=\"svd\")\n",
    "model_svd.fit(X_train, y_train)\n",
    "pred_svd = model_cholesky.predict(X_train)\n",
    "\n",
    "error_cholesky = rel_error(pred_svd, sk_pred)\n",
    "assert error_cholesky <= 1e-11\n",
    "print(\"prediction error svd: \", error_cholesky)"
   ]
  },
  {
   "cell_type": "markdown",
   "metadata": {},
   "source": [
    "### with the bias term"
   ]
  },
  {
   "cell_type": "code",
   "execution_count": 14,
   "metadata": {
    "deletable": false,
    "editable": false,
    "nbgrader": {
     "cell_type": "code",
     "checksum": "156f79e2fa426ed177d2c33c99ee2277",
     "grade": true,
     "grade_id": "cell-7271d3ca16bb71bf",
     "locked": true,
     "points": 1,
     "schema_version": 3,
     "solution": false,
     "task": false
    }
   },
   "outputs": [
    {
     "name": "stdout",
     "output_type": "stream",
     "text": [
      "prediction error:  5.051737745143608e-15\n"
     ]
    }
   ],
   "source": [
    "# DIRECT INVERSE APPROACH\n",
    "sk_model = LR(fit_intercept=True)\n",
    "sk_model.fit(X_train, y_train)\n",
    "sk_pred = sk_model.predict(X_train)\n",
    "\n",
    "model = LinearRegression(fit_intercept=True)\n",
    "model.fit(X_train, y_train)\n",
    "pred = model.predict(X_train)\n",
    "\n",
    "error = rel_error(pred, sk_pred)\n",
    "assert error <= 1e-14\n",
    "print(\"prediction error: \", error)"
   ]
  },
  {
   "cell_type": "code",
   "execution_count": 15,
   "metadata": {
    "deletable": false,
    "editable": false,
    "nbgrader": {
     "cell_type": "code",
     "checksum": "a745a016521d45e3b82ceb09d2810cce",
     "grade": true,
     "grade_id": "cell-4b23ad5ab726d0e9",
     "locked": true,
     "points": 2,
     "schema_version": 3,
     "solution": false,
     "task": false
    }
   },
   "outputs": [
    {
     "name": "stdout",
     "output_type": "stream",
     "text": [
      "prediction error cholesky:  7.274265542175575e-15\n",
      "prediction error qr:  1.678676663578964e-15\n",
      "prediction error svd:  7.274265542175575e-15\n"
     ]
    }
   ],
   "source": [
    "# OTHER APPROACHES\n",
    "sk_model = LR(fit_intercept=True)\n",
    "sk_model.fit(X_train, y_train)\n",
    "sk_pred = sk_model.predict(X_train)\n",
    "\n",
    "model_cholesky = LinearRegression(fit_intercept=True, method=\"cholesky\")\n",
    "model_cholesky.fit(X_train, y_train)\n",
    "pred_cholesky = model_cholesky.predict(X_train)\n",
    "\n",
    "error_cholesky = rel_error(pred_cholesky, sk_pred)\n",
    "assert error_cholesky <= 1e-11\n",
    "print(\"prediction error cholesky: \", error_cholesky)\n",
    "\n",
    "model_qr = LinearRegression(fit_intercept=True, method=\"qr\")\n",
    "model_qr.fit(X_train, y_train)\n",
    "pred_qr = model_qr.predict(X_train)\n",
    "\n",
    "error_qr = rel_error(pred_qr, sk_pred)\n",
    "assert error_qr <= 1e-11\n",
    "print(\"prediction error qr: \", error_qr)\n",
    "\n",
    "model_svd = LinearRegression(fit_intercept=True, method=\"svd\")\n",
    "model_svd.fit(X_train, y_train)\n",
    "pred_svd = model_cholesky.predict(X_train)\n",
    "\n",
    "error_cholesky = rel_error(pred_svd, sk_pred)\n",
    "assert error_cholesky <= 1e-11\n",
    "print(\"prediction error svd: \", error_cholesky)"
   ]
  },
  {
   "cell_type": "markdown",
   "metadata": {
    "deletable": false,
    "editable": false,
    "nbgrader": {
     "cell_type": "markdown",
     "checksum": "64b273435217b384d4d560a4f85448f3",
     "grade": false,
     "grade_id": "cell-3b3e6a1f253ca9e9",
     "locked": true,
     "points": 1,
     "schema_version": 3,
     "solution": false,
     "task": true
    }
   },
   "source": [
    "Compare the running time of the different approaches on a large dataset"
   ]
  },
  {
   "cell_type": "code",
   "execution_count": 16,
   "metadata": {},
   "outputs": [],
   "source": [
    "from datetime import datetime"
   ]
  },
  {
   "cell_type": "code",
   "execution_count": 17,
   "metadata": {},
   "outputs": [
    {
     "data": {
      "text/html": [
       "<div>\n",
       "<style scoped>\n",
       "    .dataframe tbody tr th:only-of-type {\n",
       "        vertical-align: middle;\n",
       "    }\n",
       "\n",
       "    .dataframe tbody tr th {\n",
       "        vertical-align: top;\n",
       "    }\n",
       "\n",
       "    .dataframe thead th {\n",
       "        text-align: right;\n",
       "    }\n",
       "</style>\n",
       "<table border=\"1\" class=\"dataframe\">\n",
       "  <thead>\n",
       "    <tr style=\"text-align: right;\">\n",
       "      <th></th>\n",
       "      <th>f0</th>\n",
       "      <th>f1</th>\n",
       "      <th>f2</th>\n",
       "      <th>f3</th>\n",
       "      <th>f4</th>\n",
       "      <th>f5</th>\n",
       "      <th>f6</th>\n",
       "      <th>f7</th>\n",
       "      <th>f8</th>\n",
       "      <th>f9</th>\n",
       "      <th>...</th>\n",
       "      <th>f276</th>\n",
       "      <th>f277</th>\n",
       "      <th>f278</th>\n",
       "      <th>f279</th>\n",
       "      <th>f280</th>\n",
       "      <th>f281</th>\n",
       "      <th>f282</th>\n",
       "      <th>f283</th>\n",
       "      <th>f284</th>\n",
       "      <th>target</th>\n",
       "    </tr>\n",
       "  </thead>\n",
       "  <tbody>\n",
       "    <tr>\n",
       "      <th>0</th>\n",
       "      <td>0.2440</td>\n",
       "      <td>0.4690</td>\n",
       "      <td>0.32370</td>\n",
       "      <td>0.3787</td>\n",
       "      <td>0.4243</td>\n",
       "      <td>0.3362</td>\n",
       "      <td>0.5090</td>\n",
       "      <td>0.6333</td>\n",
       "      <td>0.4167</td>\n",
       "      <td>0.2544</td>\n",
       "      <td>...</td>\n",
       "      <td>1</td>\n",
       "      <td>0</td>\n",
       "      <td>0</td>\n",
       "      <td>0</td>\n",
       "      <td>0</td>\n",
       "      <td>0</td>\n",
       "      <td>1</td>\n",
       "      <td>0</td>\n",
       "      <td>0</td>\n",
       "      <td>1</td>\n",
       "    </tr>\n",
       "    <tr>\n",
       "      <th>1</th>\n",
       "      <td>0.2021</td>\n",
       "      <td>0.4385</td>\n",
       "      <td>0.17700</td>\n",
       "      <td>0.2214</td>\n",
       "      <td>0.4412</td>\n",
       "      <td>0.4524</td>\n",
       "      <td>0.4600</td>\n",
       "      <td>0.6655</td>\n",
       "      <td>0.4294</td>\n",
       "      <td>0.2263</td>\n",
       "      <td>...</td>\n",
       "      <td>0</td>\n",
       "      <td>0</td>\n",
       "      <td>0</td>\n",
       "      <td>0</td>\n",
       "      <td>0</td>\n",
       "      <td>0</td>\n",
       "      <td>0</td>\n",
       "      <td>0</td>\n",
       "      <td>0</td>\n",
       "      <td>1</td>\n",
       "    </tr>\n",
       "    <tr>\n",
       "      <th>2</th>\n",
       "      <td>0.1842</td>\n",
       "      <td>0.4695</td>\n",
       "      <td>0.02025</td>\n",
       "      <td>0.2455</td>\n",
       "      <td>0.5890</td>\n",
       "      <td>0.4610</td>\n",
       "      <td>0.4880</td>\n",
       "      <td>0.7120</td>\n",
       "      <td>0.5550</td>\n",
       "      <td>0.2220</td>\n",
       "      <td>...</td>\n",
       "      <td>0</td>\n",
       "      <td>0</td>\n",
       "      <td>0</td>\n",
       "      <td>0</td>\n",
       "      <td>0</td>\n",
       "      <td>0</td>\n",
       "      <td>1</td>\n",
       "      <td>1</td>\n",
       "      <td>0</td>\n",
       "      <td>0</td>\n",
       "    </tr>\n",
       "    <tr>\n",
       "      <th>3</th>\n",
       "      <td>0.5460</td>\n",
       "      <td>0.4717</td>\n",
       "      <td>0.01458</td>\n",
       "      <td>0.3400</td>\n",
       "      <td>0.4036</td>\n",
       "      <td>0.3862</td>\n",
       "      <td>0.3958</td>\n",
       "      <td>0.8115</td>\n",
       "      <td>0.4448</td>\n",
       "      <td>0.1494</td>\n",
       "      <td>...</td>\n",
       "      <td>0</td>\n",
       "      <td>0</td>\n",
       "      <td>0</td>\n",
       "      <td>1</td>\n",
       "      <td>0</td>\n",
       "      <td>0</td>\n",
       "      <td>0</td>\n",
       "      <td>0</td>\n",
       "      <td>0</td>\n",
       "      <td>0</td>\n",
       "    </tr>\n",
       "    <tr>\n",
       "      <th>4</th>\n",
       "      <td>0.1544</td>\n",
       "      <td>0.3667</td>\n",
       "      <td>0.25340</td>\n",
       "      <td>0.2969</td>\n",
       "      <td>0.5967</td>\n",
       "      <td>0.3667</td>\n",
       "      <td>0.5938</td>\n",
       "      <td>0.6420</td>\n",
       "      <td>0.5700</td>\n",
       "      <td>0.1913</td>\n",
       "      <td>...</td>\n",
       "      <td>1</td>\n",
       "      <td>1</td>\n",
       "      <td>0</td>\n",
       "      <td>1</td>\n",
       "      <td>0</td>\n",
       "      <td>0</td>\n",
       "      <td>0</td>\n",
       "      <td>0</td>\n",
       "      <td>0</td>\n",
       "      <td>0</td>\n",
       "    </tr>\n",
       "    <tr>\n",
       "      <th>...</th>\n",
       "      <td>...</td>\n",
       "      <td>...</td>\n",
       "      <td>...</td>\n",
       "      <td>...</td>\n",
       "      <td>...</td>\n",
       "      <td>...</td>\n",
       "      <td>...</td>\n",
       "      <td>...</td>\n",
       "      <td>...</td>\n",
       "      <td>...</td>\n",
       "      <td>...</td>\n",
       "      <td>...</td>\n",
       "      <td>...</td>\n",
       "      <td>...</td>\n",
       "      <td>...</td>\n",
       "      <td>...</td>\n",
       "      <td>...</td>\n",
       "      <td>...</td>\n",
       "      <td>...</td>\n",
       "      <td>...</td>\n",
       "      <td>...</td>\n",
       "    </tr>\n",
       "    <tr>\n",
       "      <th>23471</th>\n",
       "      <td>0.2563</td>\n",
       "      <td>0.3262</td>\n",
       "      <td>0.34400</td>\n",
       "      <td>0.2766</td>\n",
       "      <td>0.5030</td>\n",
       "      <td>0.4434</td>\n",
       "      <td>0.4868</td>\n",
       "      <td>0.6130</td>\n",
       "      <td>0.4180</td>\n",
       "      <td>0.2627</td>\n",
       "      <td>...</td>\n",
       "      <td>0</td>\n",
       "      <td>1</td>\n",
       "      <td>1</td>\n",
       "      <td>0</td>\n",
       "      <td>0</td>\n",
       "      <td>0</td>\n",
       "      <td>0</td>\n",
       "      <td>0</td>\n",
       "      <td>0</td>\n",
       "      <td>1</td>\n",
       "    </tr>\n",
       "    <tr>\n",
       "      <th>23472</th>\n",
       "      <td>0.2023</td>\n",
       "      <td>0.5070</td>\n",
       "      <td>0.09674</td>\n",
       "      <td>0.2980</td>\n",
       "      <td>0.4966</td>\n",
       "      <td>0.4250</td>\n",
       "      <td>0.4170</td>\n",
       "      <td>0.5034</td>\n",
       "      <td>0.6084</td>\n",
       "      <td>0.2950</td>\n",
       "      <td>...</td>\n",
       "      <td>0</td>\n",
       "      <td>0</td>\n",
       "      <td>0</td>\n",
       "      <td>0</td>\n",
       "      <td>0</td>\n",
       "      <td>1</td>\n",
       "      <td>0</td>\n",
       "      <td>1</td>\n",
       "      <td>0</td>\n",
       "      <td>1</td>\n",
       "    </tr>\n",
       "    <tr>\n",
       "      <th>23473</th>\n",
       "      <td>0.2062</td>\n",
       "      <td>0.5464</td>\n",
       "      <td>0.08750</td>\n",
       "      <td>0.2607</td>\n",
       "      <td>0.5723</td>\n",
       "      <td>0.4490</td>\n",
       "      <td>0.4370</td>\n",
       "      <td>0.6533</td>\n",
       "      <td>0.6430</td>\n",
       "      <td>0.3140</td>\n",
       "      <td>...</td>\n",
       "      <td>0</td>\n",
       "      <td>0</td>\n",
       "      <td>0</td>\n",
       "      <td>0</td>\n",
       "      <td>0</td>\n",
       "      <td>1</td>\n",
       "      <td>0</td>\n",
       "      <td>1</td>\n",
       "      <td>0</td>\n",
       "      <td>0</td>\n",
       "    </tr>\n",
       "    <tr>\n",
       "      <th>23474</th>\n",
       "      <td>0.1799</td>\n",
       "      <td>0.5030</td>\n",
       "      <td>0.01859</td>\n",
       "      <td>0.3293</td>\n",
       "      <td>0.5320</td>\n",
       "      <td>0.4348</td>\n",
       "      <td>0.4275</td>\n",
       "      <td>0.6470</td>\n",
       "      <td>0.3640</td>\n",
       "      <td>0.1912</td>\n",
       "      <td>...</td>\n",
       "      <td>0</td>\n",
       "      <td>0</td>\n",
       "      <td>0</td>\n",
       "      <td>0</td>\n",
       "      <td>0</td>\n",
       "      <td>0</td>\n",
       "      <td>0</td>\n",
       "      <td>0</td>\n",
       "      <td>1</td>\n",
       "      <td>1</td>\n",
       "    </tr>\n",
       "    <tr>\n",
       "      <th>23475</th>\n",
       "      <td>0.2269</td>\n",
       "      <td>0.6533</td>\n",
       "      <td>0.09580</td>\n",
       "      <td>0.2336</td>\n",
       "      <td>0.7847</td>\n",
       "      <td>0.4512</td>\n",
       "      <td>0.3496</td>\n",
       "      <td>0.4514</td>\n",
       "      <td>0.3210</td>\n",
       "      <td>0.7046</td>\n",
       "      <td>...</td>\n",
       "      <td>0</td>\n",
       "      <td>1</td>\n",
       "      <td>0</td>\n",
       "      <td>0</td>\n",
       "      <td>0</td>\n",
       "      <td>1</td>\n",
       "      <td>0</td>\n",
       "      <td>1</td>\n",
       "      <td>1</td>\n",
       "      <td>1</td>\n",
       "    </tr>\n",
       "  </tbody>\n",
       "</table>\n",
       "<p>23476 rows × 286 columns</p>\n",
       "</div>"
      ],
      "text/plain": [
       "           f0      f1       f2      f3      f4      f5      f6      f7  \\\n",
       "0      0.2440  0.4690  0.32370  0.3787  0.4243  0.3362  0.5090  0.6333   \n",
       "1      0.2021  0.4385  0.17700  0.2214  0.4412  0.4524  0.4600  0.6655   \n",
       "2      0.1842  0.4695  0.02025  0.2455  0.5890  0.4610  0.4880  0.7120   \n",
       "3      0.5460  0.4717  0.01458  0.3400  0.4036  0.3862  0.3958  0.8115   \n",
       "4      0.1544  0.3667  0.25340  0.2969  0.5967  0.3667  0.5938  0.6420   \n",
       "...       ...     ...      ...     ...     ...     ...     ...     ...   \n",
       "23471  0.2563  0.3262  0.34400  0.2766  0.5030  0.4434  0.4868  0.6130   \n",
       "23472  0.2023  0.5070  0.09674  0.2980  0.4966  0.4250  0.4170  0.5034   \n",
       "23473  0.2062  0.5464  0.08750  0.2607  0.5723  0.4490  0.4370  0.6533   \n",
       "23474  0.1799  0.5030  0.01859  0.3293  0.5320  0.4348  0.4275  0.6470   \n",
       "23475  0.2269  0.6533  0.09580  0.2336  0.7847  0.4512  0.3496  0.4514   \n",
       "\n",
       "           f8      f9  ...  f276  f277  f278  f279  f280  f281  f282  f283  \\\n",
       "0      0.4167  0.2544  ...     1     0     0     0     0     0     1     0   \n",
       "1      0.4294  0.2263  ...     0     0     0     0     0     0     0     0   \n",
       "2      0.5550  0.2220  ...     0     0     0     0     0     0     1     1   \n",
       "3      0.4448  0.1494  ...     0     0     0     1     0     0     0     0   \n",
       "4      0.5700  0.1913  ...     1     1     0     1     0     0     0     0   \n",
       "...       ...     ...  ...   ...   ...   ...   ...   ...   ...   ...   ...   \n",
       "23471  0.4180  0.2627  ...     0     1     1     0     0     0     0     0   \n",
       "23472  0.6084  0.2950  ...     0     0     0     0     0     1     0     1   \n",
       "23473  0.6430  0.3140  ...     0     0     0     0     0     1     0     1   \n",
       "23474  0.3640  0.1912  ...     0     0     0     0     0     0     0     0   \n",
       "23475  0.3210  0.7046  ...     0     1     0     0     0     1     0     1   \n",
       "\n",
       "       f284  target  \n",
       "0         0       1  \n",
       "1         0       1  \n",
       "2         0       0  \n",
       "3         0       0  \n",
       "4         0       0  \n",
       "...     ...     ...  \n",
       "23471     0       1  \n",
       "23472     0       1  \n",
       "23473     0       0  \n",
       "23474     1       1  \n",
       "23475     1       1  \n",
       "\n",
       "[23476 rows x 286 columns]"
      ]
     },
     "execution_count": 17,
     "metadata": {},
     "output_type": "execute_result"
    }
   ],
   "source": [
    "data_url = \"./data.csv\"\n",
    "train_dset = pd.read_csv(data_url, header=0, sep=',')\n",
    "train_dset.head(len(train_dset))"
   ]
  },
  {
   "cell_type": "code",
   "execution_count": 18,
   "metadata": {},
   "outputs": [],
   "source": [
    "# inputs\n",
    "X_train = train_dset.iloc[:len(train_dset), :285].to_numpy()\n",
    "\n",
    "# labels\n",
    "y_train = train_dset.iloc[:len(train_dset), 285:286].to_numpy().T[0]"
   ]
  },
  {
   "cell_type": "markdown",
   "metadata": {},
   "source": [
    "### without the bias term"
   ]
  },
  {
   "cell_type": "code",
   "execution_count": 19,
   "metadata": {},
   "outputs": [
    {
     "name": "stdout",
     "output_type": "stream",
     "text": [
      "Method (sklearn): 0:00:00.825154\n",
      "Inverse Methot (LinearRegression): 0:00:00.347915\n"
     ]
    }
   ],
   "source": [
    "# DIRECT INVERSE APPROACH\n",
    "\n",
    "### sklearn \n",
    "start_t0 = datetime.now()\n",
    "\n",
    "sk_model = LR(fit_intercept=False)\n",
    "sk_model.fit(X_train, y_train)\n",
    "sk_pred = sk_model.predict(X_train)\n",
    "\n",
    "end_t0 = datetime.now()\n",
    "\n",
    "### implemented class\n",
    "start_t1 = datetime.now()\n",
    "\n",
    "model_inverse = LinearRegression(fit_intercept=False)\n",
    "model_inverse.fit(X_train, y_train)\n",
    "pred = model_inverse.predict(X_train)\n",
    "\n",
    "end_t1 = datetime.now()\n",
    "\n",
    "print('Method (sklearn): {}'.format(end_t0 - start_t0))\n",
    "print('Inverse Methot (LinearRegression): {}'.format(end_t1 - start_t1))"
   ]
  },
  {
   "cell_type": "code",
   "execution_count": 20,
   "metadata": {},
   "outputs": [
    {
     "name": "stdout",
     "output_type": "stream",
     "text": [
      "Inverse Methot (LinearRegression): 0:00:00.239004\n"
     ]
    }
   ],
   "source": [
    "# CHOLESKY APPROACH\n",
    "\n",
    "### implemented class\n",
    "start_t = datetime.now()\n",
    "\n",
    "model_cholesky = LinearRegression(fit_intercept=False, method=\"cholesky\")\n",
    "model_cholesky.fit(X_train, y_train)\n",
    "pred_cholesky = model_cholesky.predict(X_train)\n",
    "\n",
    "end_t = datetime.now()\n",
    "\n",
    "print('Inverse Methot (LinearRegression): {}'.format(end_t - start_t))"
   ]
  },
  {
   "cell_type": "code",
   "execution_count": 21,
   "metadata": {},
   "outputs": [
    {
     "name": "stdout",
     "output_type": "stream",
     "text": [
      "Inverse Methot (LinearRegression): 0:00:00.597008\n"
     ]
    }
   ],
   "source": [
    "# QR APPROACH\n",
    "\n",
    "### implemented class\n",
    "start_t = datetime.now()\n",
    "\n",
    "model_qr = LinearRegression(fit_intercept=False, method=\"qr\")\n",
    "model_qr.fit(X_train, y_train)\n",
    "pred_qr = model_qr.predict(X_train)\n",
    "\n",
    "end_t = datetime.now()\n",
    "\n",
    "print('Inverse Methot (LinearRegression): {}'.format(end_t - start_t))"
   ]
  },
  {
   "cell_type": "code",
   "execution_count": 22,
   "metadata": {},
   "outputs": [
    {
     "name": "stdout",
     "output_type": "stream",
     "text": [
      "Inverse Methot (LinearRegression): 0:01:07.516996\n"
     ]
    }
   ],
   "source": [
    "# SVD APPROACH\n",
    "\n",
    "### implemented class\n",
    "start_t = datetime.now()\n",
    "\n",
    "model_svd = LinearRegression(fit_intercept=False, method=\"svd\")\n",
    "model_svd.fit(X_train, y_train)\n",
    "pred_svd = model_svd.predict(X_train)\n",
    "\n",
    "end_t = datetime.now()\n",
    "print('Inverse Methot (LinearRegression): {}'.format(end_t - start_t))"
   ]
  },
  {
   "cell_type": "markdown",
   "metadata": {},
   "source": [
    "### with the bias term"
   ]
  },
  {
   "cell_type": "code",
   "execution_count": 23,
   "metadata": {},
   "outputs": [
    {
     "name": "stdout",
     "output_type": "stream",
     "text": [
      "Inverse Methot (LinearRegression): 0:00:01.418997\n"
     ]
    }
   ],
   "source": [
    "# DIRECT INVERSE APPROACH\n",
    "\n",
    "### implemented class\n",
    "start_t1 = datetime.now()\n",
    "\n",
    "model_inverse = LinearRegression(fit_intercept=True)\n",
    "model_inverse.fit(X_train, y_train)\n",
    "pred = model_inverse.predict(X_train)\n",
    "\n",
    "end_t1 = datetime.now()\n",
    "\n",
    "print('Inverse Methot (LinearRegression): {}'.format(end_t1 - start_t1))"
   ]
  },
  {
   "cell_type": "code",
   "execution_count": 24,
   "metadata": {},
   "outputs": [
    {
     "name": "stdout",
     "output_type": "stream",
     "text": [
      "Inverse Methot (LinearRegression): 0:00:00.683996\n"
     ]
    }
   ],
   "source": [
    "# CHOLESKY APPROACH\n",
    "\n",
    "### implemented class\n",
    "start_t = datetime.now()\n",
    "\n",
    "model_cholesky = LinearRegression(fit_intercept=True, method=\"cholesky\")\n",
    "model_cholesky.fit(X_train, y_train)\n",
    "pred_cholesky = model_cholesky.predict(X_train)\n",
    "\n",
    "end_t = datetime.now()\n",
    "\n",
    "print('Inverse Methot (LinearRegression): {}'.format(end_t - start_t))"
   ]
  },
  {
   "cell_type": "code",
   "execution_count": 25,
   "metadata": {},
   "outputs": [
    {
     "name": "stdout",
     "output_type": "stream",
     "text": [
      "Inverse Methot (LinearRegression): 0:00:01.536992\n"
     ]
    }
   ],
   "source": [
    "# QR APPROACH\n",
    "\n",
    "### implemented class\n",
    "start_t = datetime.now()\n",
    "\n",
    "model_qr = LinearRegression(fit_intercept=True, method=\"qr\")\n",
    "model_qr.fit(X_train, y_train)\n",
    "pred_qr = model_qr.predict(X_train)\n",
    "\n",
    "end_t = datetime.now()\n",
    "\n",
    "print('Inverse Methot (LinearRegression): {}'.format(end_t - start_t))"
   ]
  },
  {
   "cell_type": "code",
   "execution_count": 26,
   "metadata": {},
   "outputs": [
    {
     "name": "stdout",
     "output_type": "stream",
     "text": [
      "SVD Method (LinearRegression): 0:00:59.336920\n"
     ]
    }
   ],
   "source": [
    "# SVD APPROACH\n",
    "\n",
    "### implemented class\n",
    "start_t = datetime.now()\n",
    "\n",
    "model_svd = LinearRegression(fit_intercept=True, method=\"svd\")\n",
    "model_svd.fit(X_train, y_train)\n",
    "pred_svd = model_svd.predict(X_train)\n",
    "\n",
    "end_t = datetime.now()\n",
    "print('SVD Method (LinearRegression): {}'.format(end_t - start_t))"
   ]
  },
  {
   "cell_type": "code",
   "execution_count": null,
   "metadata": {},
   "outputs": [],
   "source": []
  }
 ],
 "metadata": {
  "kernelspec": {
   "display_name": "Python 3",
   "language": "python",
   "name": "python3"
  },
  "language_info": {
   "codemirror_mode": {
    "name": "ipython",
    "version": 3
   },
   "file_extension": ".py",
   "mimetype": "text/x-python",
   "name": "python",
   "nbconvert_exporter": "python",
   "pygments_lexer": "ipython3",
   "version": "3.8.8"
  }
 },
 "nbformat": 4,
 "nbformat_minor": 4
}
