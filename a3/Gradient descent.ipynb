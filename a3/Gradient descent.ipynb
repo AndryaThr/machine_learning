{
 "cells": [
  {
   "cell_type": "code",
   "execution_count": 1,
   "id": "ab42c33c",
   "metadata": {
    "deletable": false,
    "editable": false,
    "nbgrader": {
     "cell_type": "code",
     "checksum": "d3d3c2e2a84ff92fa02220ae689dc414",
     "grade": false,
     "grade_id": "cell-38b4529793385ad1",
     "locked": true,
     "schema_version": 3,
     "solution": false,
     "task": false
    }
   },
   "outputs": [],
   "source": [
    "from random import randrange\n",
    "import numpy as np\n",
    "from sklearn.metrics import mean_squared_error, log_loss\n",
    "from sklearn.datasets import load_breast_cancer, load_diabetes\n",
    "\n",
    "\n",
    "def grad_check_sparse(f, x, analytic_grad, num_checks=10, h=1e-5, error=1e-9):\n",
    "    \"\"\"\n",
    "    sample a few random elements and only return numerical\n",
    "    in this dimensions\n",
    "    \"\"\"\n",
    "\n",
    "    for i in range(num_checks):\n",
    "        ix = tuple([randrange(m) for m in x.shape])\n",
    "\n",
    "        oldval = x[ix]\n",
    "        x[ix] = oldval + h  # increment by h\n",
    "        fxph = f(x)  # evaluate f(x + h)\n",
    "        x[ix] = oldval - h  # increment by h\n",
    "        fxmh = f(x)  # evaluate f(x - h)\n",
    "        x[ix] = oldval  # reset\n",
    "\n",
    "        grad_numerical = (fxph - fxmh) / (2 * h)\n",
    "        grad_analytic = analytic_grad[ix]\n",
    "        rel_error = abs(grad_numerical - grad_analytic) / (\n",
    "            abs(grad_numerical) + abs(grad_analytic)\n",
    "        )\n",
    "        print(\n",
    "            \"numerical: %f analytic: %f, relative error: %e\"\n",
    "            % (grad_numerical, grad_analytic, rel_error)\n",
    "        )\n",
    "        assert rel_error < error\n",
    "\n",
    "def rel_error(x, y):\n",
    "    \"\"\" returns relative error \"\"\"\n",
    "    return np.max(np.abs(x - y) / (np.maximum(1e-8, np.abs(x) + np.abs(y))))"
   ]
  },
  {
   "cell_type": "markdown",
   "id": "cfec4298",
   "metadata": {},
   "source": [
    "# Linear regression"
   ]
  },
  {
   "cell_type": "code",
   "execution_count": 2,
   "id": "731a18bc",
   "metadata": {
    "deletable": false,
    "editable": false,
    "nbgrader": {
     "cell_type": "code",
     "checksum": "1159b5dc8c59570993ac39ae349c5037",
     "grade": false,
     "grade_id": "cell-3fb8ebd5eb97e246",
     "locked": true,
     "schema_version": 3,
     "solution": false,
     "task": false
    }
   },
   "outputs": [],
   "source": [
    "data = load_diabetes()\n",
    "X_train1, y_train1 = data.data, data.target\n",
    "w1 = np.random.randn(X_train1.shape[1]) * 0.0001\n",
    "b1 = np.random.randn(1) * 0.0001"
   ]
  },
  {
   "cell_type": "code",
   "execution_count": 3,
   "id": "f07dea71",
   "metadata": {
    "deletable": false,
    "nbgrader": {
     "cell_type": "code",
     "checksum": "baf9b75ec047c1cdb887ecb2bc2043a1",
     "grade": false,
     "grade_id": "cell-5ffdf99ad7cdfd69",
     "locked": false,
     "schema_version": 3,
     "solution": true,
     "task": false
    }
   },
   "outputs": [],
   "source": [
    "def mse_loss_naive(w, b, X, y, alpha=0):\n",
    "    \"\"\"\n",
    "    MSE loss function WITH FOR LOOPs\n",
    "    \n",
    "    Returns a tuple of:\n",
    "    - loss \n",
    "    - gradient with respect to weights w\n",
    "    - gradient with respect to bias b\n",
    "    \"\"\"\n",
    "    \n",
    "    loss = 0.0\n",
    "    dw = np.zeros_like(w)\n",
    "    db = 0.0\n",
    "    \n",
    "    # YOUR CODE HERE\n",
    "    size_y = len(y)\n",
    "    y_pred = X.dot(w) + b\n",
    "    \n",
    "    # loss\n",
    "    for i in range(size_y):\n",
    "        loss = loss + (y[i] - y_pred[i])**2\n",
    "    loss += alpha * w.T.dot(w)\n",
    "    loss *= (1 / size_y)\n",
    "    \n",
    "    # gradient with respect to weights w\n",
    "    for i in range(size_y):\n",
    "        dw += X[i] * (y[i] - y_pred[i])\n",
    "    dw += alpha * w\n",
    "    dw *= (-2 / size_y)\n",
    "    \n",
    "    # gradient with respect to weights b\n",
    "    for i in range(size_y):\n",
    "        db += (y[i] - y_pred[i])\n",
    "    db *= (-2 / size_y)\n",
    "        \n",
    "    return loss, dw, np.array(db).reshape(1,)"
   ]
  },
  {
   "cell_type": "markdown",
   "id": "bddacc5d",
   "metadata": {},
   "source": [
    "## Naive Linear regression loss"
   ]
  },
  {
   "cell_type": "code",
   "execution_count": 4,
   "id": "86cdcedc",
   "metadata": {
    "deletable": false,
    "editable": false,
    "nbgrader": {
     "cell_type": "code",
     "checksum": "67581686e36845f8ef8aacd81c1a201b",
     "grade": true,
     "grade_id": "cell-079e42b153b67a60",
     "locked": true,
     "points": 1,
     "schema_version": 3,
     "solution": false,
     "task": false
    }
   },
   "outputs": [
    {
     "name": "stdout",
     "output_type": "stream",
     "text": [
      "Loss error :  1.2512613028603116e-16\n",
      "Gradient check w\n",
      "numerical: -0.315455 analytic: -0.315455, relative error: 7.106261e-08\n",
      "numerical: -1.553186 analytic: -1.553187, relative error: 1.920212e-07\n",
      "numerical: -0.315455 analytic: -0.315455, relative error: 7.106261e-08\n",
      "numerical: -4.296089 analytic: -4.296087, relative error: 2.120273e-07\n",
      "numerical: -1.553186 analytic: -1.553187, relative error: 1.920212e-07\n",
      "numerical: -1.553186 analytic: -1.553187, relative error: 1.920212e-07\n",
      "numerical: -2.801913 analytic: -2.801913, relative error: 2.570945e-08\n",
      "numerical: -3.153317 analytic: -3.153317, relative error: 6.301220e-08\n",
      "numerical: -0.315455 analytic: -0.315455, relative error: 7.106261e-08\n",
      "numerical: -1.275044 analytic: -1.275043, relative error: 2.286572e-07\n",
      "numerical: -1.553186 analytic: -1.553187, relative error: 1.920212e-07\n",
      "numerical: -4.145422 analytic: -4.145424, relative error: 1.948690e-07\n",
      "numerical: -1.275044 analytic: -1.275043, relative error: 2.286572e-07\n",
      "numerical: -0.315455 analytic: -0.315455, relative error: 7.106261e-08\n",
      "numerical: -1.376395 analytic: -1.376394, relative error: 4.680289e-07\n",
      "Gradient check bias\n",
      "numerical: -304.267044 analytic: -304.267046, relative error: 3.920763e-09\n",
      "numerical: -304.267044 analytic: -304.267046, relative error: 3.920763e-09\n",
      "numerical: -304.267044 analytic: -304.267046, relative error: 3.920763e-09\n",
      "numerical: -304.267044 analytic: -304.267046, relative error: 3.920763e-09\n",
      "numerical: -304.267044 analytic: -304.267046, relative error: 3.920763e-09\n",
      "numerical: -304.267044 analytic: -304.267046, relative error: 3.920763e-09\n",
      "numerical: -304.267044 analytic: -304.267046, relative error: 3.920763e-09\n",
      "numerical: -304.267044 analytic: -304.267046, relative error: 3.920763e-09\n",
      "numerical: -304.267044 analytic: -304.267046, relative error: 3.920763e-09\n",
      "numerical: -304.267044 analytic: -304.267046, relative error: 3.920763e-09\n",
      "numerical: -304.267044 analytic: -304.267046, relative error: 3.920763e-09\n",
      "numerical: -304.267044 analytic: -304.267046, relative error: 3.920763e-09\n",
      "numerical: -304.267044 analytic: -304.267046, relative error: 3.920763e-09\n",
      "numerical: -304.267044 analytic: -304.267046, relative error: 3.920763e-09\n",
      "numerical: -304.267044 analytic: -304.267046, relative error: 3.920763e-09\n"
     ]
    }
   ],
   "source": [
    "loss, dw1, db1 = mse_loss_naive(w1, b1, X_train1, y_train1, alpha=0)\n",
    "\n",
    "sk_loss = mean_squared_error(X_train1 @ w1 + b1, y_train1)\n",
    "assert rel_error(loss, sk_loss) < 1e-9\n",
    "print(\"Loss error : \",rel_error(loss, sk_loss))\n",
    "\n",
    "print(\"Gradient check w\")\n",
    "# Check with numerical gradient w\n",
    "f = lambda w1: mse_loss_naive(w1, b1, X_train1, y_train1, alpha=0)[0]\n",
    "grad_numerical = grad_check_sparse(f, w1, dw1, 15,  error=1e-5)\n",
    "\n",
    "print(\"Gradient check bias\")\n",
    "# Check with numerical gradient b\n",
    "f2 = lambda b1: mse_loss_naive(w1, b1, X_train1, y_train1, alpha=0)[0]\n",
    "grad_numerical = grad_check_sparse(f2, b1, db1, 15,  error=1e-5)"
   ]
  },
  {
   "cell_type": "markdown",
   "id": "db438d3f",
   "metadata": {},
   "source": [
    "## Naive Ridge regression loss"
   ]
  },
  {
   "cell_type": "code",
   "execution_count": 5,
   "id": "36465817",
   "metadata": {
    "deletable": false,
    "editable": false,
    "nbgrader": {
     "cell_type": "code",
     "checksum": "9ca5790893e5950341f7370bb3be167c",
     "grade": true,
     "grade_id": "cell-14a64cb1cfe70b98",
     "locked": true,
     "points": 1,
     "schema_version": 3,
     "solution": false,
     "task": false
    }
   },
   "outputs": [
    {
     "name": "stdout",
     "output_type": "stream",
     "text": [
      "Gradient check w\n",
      "numerical: -1.376396 analytic: -1.376394, relative error: 7.163157e-07\n",
      "numerical: -4.296089 analytic: -4.296087, relative error: 2.115305e-07\n",
      "numerical: -3.234126 analytic: -3.234125, relative error: 1.835279e-07\n",
      "numerical: -1.275044 analytic: -1.275043, relative error: 1.503637e-07\n",
      "numerical: -4.296089 analytic: -4.296087, relative error: 2.115305e-07\n",
      "numerical: -1.275044 analytic: -1.275043, relative error: 1.503637e-07\n",
      "numerical: -2.801912 analytic: -2.801913, relative error: 1.895648e-07\n",
      "numerical: 2.892060 analytic: 2.892060, relative error: 1.468978e-07\n",
      "numerical: -3.153318 analytic: -3.153316, relative error: 2.935326e-07\n",
      "numerical: -1.275044 analytic: -1.275043, relative error: 1.503637e-07\n",
      "numerical: -2.801912 analytic: -2.801913, relative error: 1.895648e-07\n",
      "numerical: -0.315456 analytic: -0.315454, relative error: 2.557029e-06\n",
      "numerical: 2.892060 analytic: 2.892060, relative error: 1.468978e-07\n",
      "numerical: -1.376396 analytic: -1.376394, relative error: 7.163157e-07\n",
      "numerical: -1.275044 analytic: -1.275043, relative error: 1.503637e-07\n",
      "Gradient check bias\n",
      "numerical: -304.267044 analytic: -304.267046, relative error: 4.219676e-09\n",
      "numerical: -304.267044 analytic: -304.267046, relative error: 4.219676e-09\n",
      "numerical: -304.267044 analytic: -304.267046, relative error: 4.219676e-09\n",
      "numerical: -304.267044 analytic: -304.267046, relative error: 4.219676e-09\n",
      "numerical: -304.267044 analytic: -304.267046, relative error: 4.219676e-09\n",
      "numerical: -304.267044 analytic: -304.267046, relative error: 4.219676e-09\n",
      "numerical: -304.267044 analytic: -304.267046, relative error: 4.219676e-09\n",
      "numerical: -304.267044 analytic: -304.267046, relative error: 4.219676e-09\n",
      "numerical: -304.267044 analytic: -304.267046, relative error: 4.219676e-09\n",
      "numerical: -304.267044 analytic: -304.267046, relative error: 4.219676e-09\n",
      "numerical: -304.267044 analytic: -304.267046, relative error: 4.219676e-09\n",
      "numerical: -304.267044 analytic: -304.267046, relative error: 4.219676e-09\n",
      "numerical: -304.267044 analytic: -304.267046, relative error: 4.219676e-09\n",
      "numerical: -304.267044 analytic: -304.267046, relative error: 4.219676e-09\n",
      "numerical: -304.267044 analytic: -304.267046, relative error: 4.219676e-09\n"
     ]
    }
   ],
   "source": [
    "loss, dw1, db1 = mse_loss_naive(w1, b1, X_train1, y_train1, alpha=1)\n",
    "\n",
    "print(\"Gradient check w\")\n",
    "# Check with numerical gradient w\n",
    "f = lambda w1: mse_loss_naive(w1, b1, X_train1, y_train1, alpha=1)[0]\n",
    "grad_numerical = grad_check_sparse(f, w1, dw1, 15,  error=1e-5)\n",
    "\n",
    "print(\"Gradient check bias\")\n",
    "# Check with numerical gradient b\n",
    "f2 = lambda b1: mse_loss_naive(w1, b1, X_train1, y_train1, alpha=1)[0]\n",
    "grad_numerical = grad_check_sparse(f2, b1, db1, 15,  error=1e-5)"
   ]
  },
  {
   "cell_type": "code",
   "execution_count": 6,
   "id": "5c6b011f",
   "metadata": {
    "deletable": false,
    "nbgrader": {
     "cell_type": "code",
     "checksum": "21b3a09270262dbad9cb1c15c0fc69f8",
     "grade": false,
     "grade_id": "cell-1528a28f467d90c7",
     "locked": false,
     "schema_version": 3,
     "solution": true,
     "task": false
    }
   },
   "outputs": [],
   "source": [
    "def mse_loss_vectorized(w, b, X, y, alpha=0):\n",
    "    \"\"\"\n",
    "    MSE loss function WITHOUT FOR LOOPs\n",
    "    \n",
    "    Returns a tuple of:\n",
    "    - loss \n",
    "    - gradient with respect to weights w\n",
    "    - gradient with respect to bias b\n",
    "    \"\"\"\n",
    "    loss = 0.0\n",
    "    dw = np.zeros_like(w)\n",
    "    db = 0.0\n",
    "    \n",
    "    # YOUR CODE HERE\n",
    "    y_pred = X.dot(w) + b\n",
    "    \n",
    "    # loss\n",
    "    s1 =  (y_pred - y).T @ (y_pred - y) + alpha * (w.T @ w)\n",
    "    loss =  (1/(y.shape[0])) * s1\n",
    "    \n",
    "    # gradient with respect to weights w\n",
    "    s1 = alpha * w\n",
    "    s2 = X.T @ (y_pred - y)\n",
    "    dw = (s1 + s2) * (2/y.shape[0])\n",
    "    \n",
    "    # gradient with respect to weights b\n",
    "    s3 = np.sum(y_pred - y)\n",
    "    db = s3 * (2/y.shape[0])\n",
    "    \n",
    "    return loss, dw, np.array(db).reshape(1,)"
   ]
  },
  {
   "cell_type": "markdown",
   "id": "1d9bff00",
   "metadata": {},
   "source": [
    "## Vectorised Linear regression loss"
   ]
  },
  {
   "cell_type": "code",
   "execution_count": 7,
   "id": "05dd3b4d",
   "metadata": {
    "deletable": false,
    "editable": false,
    "nbgrader": {
     "cell_type": "code",
     "checksum": "ffc6cc1a998e8ed785bea62c0208ce04",
     "grade": true,
     "grade_id": "cell-41637ca21c8f938d",
     "locked": true,
     "points": 1,
     "schema_version": 3,
     "solution": false,
     "task": false
    }
   },
   "outputs": [
    {
     "name": "stdout",
     "output_type": "stream",
     "text": [
      "Loss error :  6.256306514301555e-17\n",
      "Gradient check w\n",
      "numerical: -4.296087 analytic: -4.296087, relative error: 3.242401e-10\n",
      "numerical: -3.153317 analytic: -3.153317, relative error: 2.351522e-08\n",
      "numerical: -3.234125 analytic: -3.234124, relative error: 4.504793e-08\n",
      "numerical: -4.296087 analytic: -4.296087, relative error: 3.242401e-10\n",
      "numerical: 2.892061 analytic: 2.892061, relative error: 7.284076e-09\n",
      "numerical: -0.315455 analytic: -0.315455, relative error: 7.106261e-08\n",
      "numerical: -1.275043 analytic: -1.275043, relative error: 8.599622e-08\n",
      "numerical: -3.234125 analytic: -3.234124, relative error: 4.504793e-08\n",
      "numerical: 2.892061 analytic: 2.892061, relative error: 7.284076e-09\n",
      "numerical: -3.153317 analytic: -3.153317, relative error: 2.351522e-08\n",
      "numerical: -4.296087 analytic: -4.296087, relative error: 3.242401e-10\n",
      "numerical: -3.234125 analytic: -3.234124, relative error: 4.504793e-08\n",
      "numerical: -1.275043 analytic: -1.275043, relative error: 8.599622e-08\n",
      "numerical: 2.892061 analytic: 2.892061, relative error: 7.284076e-09\n",
      "numerical: -2.801913 analytic: -2.801913, relative error: 6.750336e-09\n",
      "Gradient check bias\n",
      "numerical: -304.267046 analytic: -304.267046, relative error: 3.488982e-11\n",
      "numerical: -304.267046 analytic: -304.267046, relative error: 3.488982e-11\n",
      "numerical: -304.267046 analytic: -304.267046, relative error: 3.488982e-11\n",
      "numerical: -304.267046 analytic: -304.267046, relative error: 3.488982e-11\n",
      "numerical: -304.267046 analytic: -304.267046, relative error: 3.488982e-11\n",
      "numerical: -304.267046 analytic: -304.267046, relative error: 3.488982e-11\n",
      "numerical: -304.267046 analytic: -304.267046, relative error: 3.488982e-11\n",
      "numerical: -304.267046 analytic: -304.267046, relative error: 3.488982e-11\n",
      "numerical: -304.267046 analytic: -304.267046, relative error: 3.488982e-11\n",
      "numerical: -304.267046 analytic: -304.267046, relative error: 3.488982e-11\n",
      "numerical: -304.267046 analytic: -304.267046, relative error: 3.488982e-11\n",
      "numerical: -304.267046 analytic: -304.267046, relative error: 3.488982e-11\n",
      "numerical: -304.267046 analytic: -304.267046, relative error: 3.488982e-11\n",
      "numerical: -304.267046 analytic: -304.267046, relative error: 3.488982e-11\n",
      "numerical: -304.267046 analytic: -304.267046, relative error: 3.488982e-11\n"
     ]
    }
   ],
   "source": [
    "loss, dw1, db1 = mse_loss_vectorized(w1, b1, X_train1, y_train1, alpha=0)\n",
    "\n",
    "sk_loss = mean_squared_error(X_train1 @ w1 + b1, y_train1)\n",
    "assert rel_error(loss, sk_loss) < 1e-9\n",
    "print(\"Loss error : \",rel_error(loss, sk_loss))\n",
    "\n",
    "print(\"Gradient check w\")\n",
    "# Check with numerical gradient w\n",
    "f = lambda w1: mse_loss_vectorized(w1, b1, X_train1, y_train1, alpha=0)[0]\n",
    "grad_numerical = grad_check_sparse(f, w1, dw1, 15,  error=1e-5)\n",
    "\n",
    "print(\"Gradient check bias\")\n",
    "# Check with numerical gradient b\n",
    "f2 = lambda b1: mse_loss_vectorized(w1, b1, X_train1, y_train1, alpha=0)[0]\n",
    "grad_numerical = grad_check_sparse(f2, b1, db1, 15,  error=1e-5)"
   ]
  },
  {
   "cell_type": "markdown",
   "id": "27c8575f",
   "metadata": {},
   "source": [
    "## Vectorized ridge regression loss"
   ]
  },
  {
   "cell_type": "code",
   "execution_count": 8,
   "id": "6aa107f7",
   "metadata": {
    "deletable": false,
    "editable": false,
    "nbgrader": {
     "cell_type": "code",
     "checksum": "89b351bee282f05c3f74c9541b3a825e",
     "grade": true,
     "grade_id": "cell-bb0ff99c19a85e0f",
     "locked": true,
     "points": 1,
     "schema_version": 3,
     "solution": false,
     "task": false
    }
   },
   "outputs": [
    {
     "name": "stdout",
     "output_type": "stream",
     "text": [
      "Gradient check w\n",
      "numerical: -0.315456 analytic: -0.315456, relative error: 3.926560e-07\n",
      "numerical: 2.892061 analytic: 2.892061, relative error: 2.722201e-08\n",
      "numerical: -3.153318 analytic: -3.153318, relative error: 2.329584e-08\n",
      "numerical: -3.153318 analytic: -3.153318, relative error: 2.329584e-08\n",
      "numerical: 2.892061 analytic: 2.892061, relative error: 2.722201e-08\n",
      "numerical: -1.275043 analytic: -1.275043, relative error: 9.295927e-08\n",
      "numerical: -2.801912 analytic: -2.801912, relative error: 1.376528e-08\n",
      "numerical: 2.892061 analytic: 2.892061, relative error: 2.722201e-08\n",
      "numerical: -4.145423 analytic: -4.145423, relative error: 2.159697e-08\n",
      "numerical: -1.275043 analytic: -1.275043, relative error: 9.295927e-08\n",
      "numerical: -4.296087 analytic: -4.296087, relative error: 2.199134e-08\n",
      "numerical: -3.153318 analytic: -3.153318, relative error: 2.329584e-08\n",
      "numerical: 2.892061 analytic: 2.892061, relative error: 2.722201e-08\n",
      "numerical: -1.376394 analytic: -1.376394, relative error: 4.457020e-08\n",
      "numerical: 2.892061 analytic: 2.892061, relative error: 2.722201e-08\n",
      "Gradient check bias\n",
      "numerical: -304.267046 analytic: -304.267046, relative error: 3.488982e-11\n",
      "numerical: -304.267046 analytic: -304.267046, relative error: 3.488982e-11\n",
      "numerical: -304.267046 analytic: -304.267046, relative error: 3.488982e-11\n",
      "numerical: -304.267046 analytic: -304.267046, relative error: 3.488982e-11\n",
      "numerical: -304.267046 analytic: -304.267046, relative error: 3.488982e-11\n",
      "numerical: -304.267046 analytic: -304.267046, relative error: 3.488982e-11\n",
      "numerical: -304.267046 analytic: -304.267046, relative error: 3.488982e-11\n",
      "numerical: -304.267046 analytic: -304.267046, relative error: 3.488982e-11\n",
      "numerical: -304.267046 analytic: -304.267046, relative error: 3.488982e-11\n",
      "numerical: -304.267046 analytic: -304.267046, relative error: 3.488982e-11\n",
      "numerical: -304.267046 analytic: -304.267046, relative error: 3.488982e-11\n",
      "numerical: -304.267046 analytic: -304.267046, relative error: 3.488982e-11\n",
      "numerical: -304.267046 analytic: -304.267046, relative error: 3.488982e-11\n",
      "numerical: -304.267046 analytic: -304.267046, relative error: 3.488982e-11\n",
      "numerical: -304.267046 analytic: -304.267046, relative error: 3.488982e-11\n"
     ]
    }
   ],
   "source": [
    "loss, dw1, db1 = mse_loss_vectorized(w1, b1, X_train1, y_train1, alpha=1)\n",
    "\n",
    "print(\"Gradient check w\")\n",
    "# Check with numerical gradient w\n",
    "f = lambda w1: mse_loss_vectorized(w1, b1, X_train1, y_train1, alpha=1)[0]\n",
    "grad_numerical = grad_check_sparse(f, w1, dw1, 15,  error=1e-5)\n",
    "\n",
    "print(\"Gradient check bias\")\n",
    "# Check with numerical gradient b\n",
    "f2 = lambda b1: mse_loss_vectorized(w1, b1, X_train1, y_train1, alpha=1)[0]\n",
    "grad_numerical = grad_check_sparse(f2, b1, db1, 15,  error=1e-5)"
   ]
  },
  {
   "cell_type": "markdown",
   "id": "c3c7ae33",
   "metadata": {},
   "source": [
    "# Logistic regression"
   ]
  },
  {
   "cell_type": "code",
   "execution_count": 9,
   "id": "bb6d1eb4",
   "metadata": {
    "deletable": false,
    "editable": false,
    "nbgrader": {
     "cell_type": "code",
     "checksum": "fd86b658f3ec113c00c2ee2e195f550f",
     "grade": false,
     "grade_id": "cell-434ec399cf8aeea7",
     "locked": true,
     "schema_version": 3,
     "solution": false,
     "task": false
    }
   },
   "outputs": [],
   "source": [
    "def sigmoid(z):\n",
    "    return 1 / (1 + np.exp(-z))\n",
    "\n",
    "data = load_breast_cancer()\n",
    "X_train2, y_train2 = data.data, data.target\n",
    "w2 = np.random.randn(X_train2.shape[1]) * 0.0001\n",
    "b2 = np.random.randn(1) * 0.0001"
   ]
  },
  {
   "cell_type": "markdown",
   "id": "d97e5d16",
   "metadata": {},
   "source": [
    "# Naive"
   ]
  },
  {
   "cell_type": "code",
   "execution_count": 10,
   "id": "392e05fa",
   "metadata": {},
   "outputs": [],
   "source": [
    "def logistic(y, m):\n",
    "    res = y * np.log(m) + (1-y) * np.log(1-m)\n",
    "    return res"
   ]
  },
  {
   "cell_type": "code",
   "execution_count": 11,
   "id": "4690c331",
   "metadata": {
    "deletable": false,
    "nbgrader": {
     "cell_type": "code",
     "checksum": "a4357b941a04e6dc51a2683b7f4d91ed",
     "grade": false,
     "grade_id": "cell-6ec156568b0c6e29",
     "locked": false,
     "schema_version": 3,
     "solution": true,
     "task": false
    }
   },
   "outputs": [],
   "source": [
    "def log_loss_naive(w, b, X, y, alpha=0):\n",
    "    \"\"\"\n",
    "    log loss function WITH FOR LOOPs\n",
    "    \n",
    "    Returns a tuple of:\n",
    "    - loss \n",
    "    - gradient with respect to weights w\n",
    "    \"\"\"\n",
    "    loss = 0.0\n",
    "    dw = np.zeros_like(w)\n",
    "    db = 0.0\n",
    "    \n",
    "    # YOUR CODE HERE\n",
    "    \n",
    "    # loss\n",
    "    for i in range(y.shape[0]):\n",
    "        sig = sigmoid(w.T.dot(X[i]) + b)\n",
    "        loss -= logistic(y[i], sig)\n",
    "    \n",
    "    loss += alpha * w.T.dot(w)\n",
    "    loss = (1/y.shape[0]) * loss\n",
    "    \n",
    "    # gradient with respect to weights w\n",
    "    for i in range(w.shape[0]):\n",
    "        s1 = 2 * alpha * w[i]\n",
    "        for j in range(y.shape[0]):\n",
    "            sig = sigmoid((w.T @ X[j]) + b)\n",
    "            s1 += (sig - y[j]) * X[j][i]\n",
    "        dw[i] = s1/y.shape[0]\n",
    "        \n",
    "    # gradient with respect to bias b\n",
    "    s2 = 0\n",
    "    for i in range(y.shape[0]):\n",
    "        sig = sigmoid((w.T @ X[i]) + b)\n",
    "        s2 += sig - y[i]\n",
    "    db = s2 * (1/y.shape[0])\n",
    "    \n",
    "    return loss, dw, np.array(db).reshape(1,)"
   ]
  },
  {
   "cell_type": "code",
   "execution_count": 12,
   "id": "f54b1bca",
   "metadata": {
    "deletable": false,
    "editable": false,
    "nbgrader": {
     "cell_type": "code",
     "checksum": "97d1606d0c00119f8956e4ef60ad346f",
     "grade": true,
     "grade_id": "cell-d3c078eb2449ee61",
     "locked": true,
     "points": 1,
     "schema_version": 3,
     "solution": false,
     "task": false
    }
   },
   "outputs": [
    {
     "name": "stdout",
     "output_type": "stream",
     "text": [
      "Loss error :  8.026681113836711e-17\n",
      "Gradient check w\n",
      "numerical: -0.000580 analytic: -0.000580, relative error: 3.027572e-09\n",
      "numerical: -0.000580 analytic: -0.000580, relative error: 3.027572e-09\n",
      "numerical: -0.010473 analytic: -0.010473, relative error: 2.776260e-09\n",
      "numerical: 31.900470 analytic: 31.900418, relative error: 8.179354e-07\n",
      "numerical: 0.009682 analytic: 0.009682, relative error: 1.189431e-09\n",
      "numerical: 0.021217 analytic: 0.021217, relative error: 1.421578e-09\n",
      "numerical: -0.008426 analytic: -0.008426, relative error: 2.164990e-09\n",
      "numerical: 0.009682 analytic: 0.009682, relative error: 1.189431e-09\n",
      "numerical: 0.014769 analytic: 0.014769, relative error: 1.140001e-09\n",
      "numerical: 0.007913 analytic: 0.007913, relative error: 3.249854e-09\n",
      "numerical: -1.724903 analytic: -1.724903, relative error: 1.431440e-10\n",
      "numerical: -0.008446 analytic: -0.008446, relative error: 1.086927e-09\n",
      "numerical: -0.019891 analytic: -0.019891, relative error: 1.204096e-09\n",
      "numerical: 0.021217 analytic: 0.021217, relative error: 1.421578e-09\n",
      "numerical: -0.164755 analytic: -0.164755, relative error: 1.145458e-10\n",
      "Gradient check bias\n",
      "numerical: -0.133859 analytic: -0.133859, relative error: 2.492832e-11\n",
      "numerical: -0.133859 analytic: -0.133859, relative error: 2.492832e-11\n",
      "numerical: -0.133859 analytic: -0.133859, relative error: 2.492832e-11\n",
      "numerical: -0.133859 analytic: -0.133859, relative error: 2.492832e-11\n",
      "numerical: -0.133859 analytic: -0.133859, relative error: 2.492832e-11\n",
      "numerical: -0.133859 analytic: -0.133859, relative error: 2.492832e-11\n",
      "numerical: -0.133859 analytic: -0.133859, relative error: 2.492832e-11\n",
      "numerical: -0.133859 analytic: -0.133859, relative error: 2.492832e-11\n",
      "numerical: -0.133859 analytic: -0.133859, relative error: 2.492832e-11\n",
      "numerical: -0.133859 analytic: -0.133859, relative error: 2.492832e-11\n",
      "numerical: -0.133859 analytic: -0.133859, relative error: 2.492832e-11\n",
      "numerical: -0.133859 analytic: -0.133859, relative error: 2.492832e-11\n",
      "numerical: -0.133859 analytic: -0.133859, relative error: 2.492832e-11\n",
      "numerical: -0.133859 analytic: -0.133859, relative error: 2.492832e-11\n",
      "numerical: -0.133859 analytic: -0.133859, relative error: 2.492832e-11\n"
     ]
    }
   ],
   "source": [
    "y_pred_0 = sigmoid(X_train2 @ w2 + b2)\n",
    "y_pred = np.vstack([1-y_pred_0, y_pred_0]).T\n",
    "sk_loss = log_loss(y_train2, y_pred)\n",
    "\n",
    "loss, dw2, db2 = log_loss_naive(w2, b2, X_train2, y_train2, alpha=0)\n",
    "assert rel_error(loss, sk_loss) < 1e-9\n",
    "print(\"Loss error : \",rel_error(loss, sk_loss))\n",
    "\n",
    "print(\"Gradient check w\")\n",
    "# Check with numerical gradient w\n",
    "f = lambda w2: log_loss_naive(w2, b2, X_train2, y_train2, alpha=0)[0]\n",
    "grad_numerical = grad_check_sparse(f, w2, dw2, 15, error=1e-4)\n",
    "\n",
    "print(\"Gradient check bias\")\n",
    "# Check with numerical gradient b\n",
    "f2 = lambda b2: log_loss_naive(w2, b2, X_train2, y_train2, alpha=0)[0]\n",
    "grad_numerical = grad_check_sparse(f2, b2, db2, 15,  error=1e-5)"
   ]
  },
  {
   "cell_type": "markdown",
   "id": "5e1e8516",
   "metadata": {},
   "source": [
    "# Naive with regulariztion"
   ]
  },
  {
   "cell_type": "code",
   "execution_count": 13,
   "id": "79f6f9a6",
   "metadata": {
    "deletable": false,
    "editable": false,
    "nbgrader": {
     "cell_type": "code",
     "checksum": "cb3c9584e2ca3502e5068d5c1ee2df96",
     "grade": true,
     "grade_id": "cell-b91805308ad91ec5",
     "locked": true,
     "points": 1,
     "schema_version": 3,
     "solution": false,
     "task": false
    }
   },
   "outputs": [
    {
     "name": "stdout",
     "output_type": "stream",
     "text": [
      "Gradient check w\n",
      "numerical: -3.660894 analytic: -3.660894, relative error: 9.510353e-09\n",
      "numerical: -0.008426 analytic: -0.008426, relative error: 2.106727e-09\n",
      "numerical: 0.010591 analytic: 0.010591, relative error: 1.222721e-09\n",
      "numerical: 6.557103 analytic: 6.557103, relative error: 3.725920e-09\n",
      "numerical: -0.164755 analytic: -0.164755, relative error: 1.226403e-10\n",
      "numerical: 0.014770 analytic: 0.014770, relative error: 1.209110e-09\n",
      "numerical: 31.900471 analytic: 31.900418, relative error: 8.179353e-07\n",
      "numerical: -0.008426 analytic: -0.008426, relative error: 2.106727e-09\n",
      "numerical: -1.724903 analytic: -1.724903, relative error: 1.443631e-10\n",
      "numerical: 82.072592 analytic: 82.072377, relative error: 1.311562e-06\n",
      "numerical: 0.155995 analytic: 0.155995, relative error: 1.137257e-11\n",
      "numerical: -0.000581 analytic: -0.000581, relative error: 3.584415e-09\n",
      "numerical: -0.164755 analytic: -0.164755, relative error: 1.226403e-10\n",
      "numerical: 0.155995 analytic: 0.155995, relative error: 1.137257e-11\n",
      "numerical: -1.724903 analytic: -1.724903, relative error: 1.443631e-10\n",
      "Gradient check bias\n",
      "numerical: -0.133859 analytic: -0.133859, relative error: 2.492832e-11\n",
      "numerical: -0.133859 analytic: -0.133859, relative error: 2.492832e-11\n",
      "numerical: -0.133859 analytic: -0.133859, relative error: 2.492832e-11\n",
      "numerical: -0.133859 analytic: -0.133859, relative error: 2.492832e-11\n",
      "numerical: -0.133859 analytic: -0.133859, relative error: 2.492832e-11\n",
      "numerical: -0.133859 analytic: -0.133859, relative error: 2.492832e-11\n",
      "numerical: -0.133859 analytic: -0.133859, relative error: 2.492832e-11\n",
      "numerical: -0.133859 analytic: -0.133859, relative error: 2.492832e-11\n",
      "numerical: -0.133859 analytic: -0.133859, relative error: 2.492832e-11\n",
      "numerical: -0.133859 analytic: -0.133859, relative error: 2.492832e-11\n",
      "numerical: -0.133859 analytic: -0.133859, relative error: 2.492832e-11\n",
      "numerical: -0.133859 analytic: -0.133859, relative error: 2.492832e-11\n",
      "numerical: -0.133859 analytic: -0.133859, relative error: 2.492832e-11\n",
      "numerical: -0.133859 analytic: -0.133859, relative error: 2.492832e-11\n",
      "numerical: -0.133859 analytic: -0.133859, relative error: 2.492832e-11\n"
     ]
    }
   ],
   "source": [
    "loss, dw2, db2 = log_loss_naive(w2, b2, X_train2, y_train2, alpha=1)\n",
    "\n",
    "print(\"Gradient check w\")\n",
    "# Check with numerical gradient w\n",
    "f = lambda w2: log_loss_naive(w2, b2, X_train2, y_train2, alpha=1)[0]\n",
    "grad_numerical = grad_check_sparse(f, w2, dw2, 15, error=1e-4)\n",
    "\n",
    "print(\"Gradient check bias\")\n",
    "# Check with numerical gradient b\n",
    "f2 = lambda b2: log_loss_naive(w2, b2, X_train2, y_train2, alpha=1)[0]\n",
    "grad_numerical = grad_check_sparse(f2, b2, db2, 15,  error=1e-5)"
   ]
  },
  {
   "cell_type": "markdown",
   "id": "31564092",
   "metadata": {},
   "source": [
    "# Vectorized"
   ]
  },
  {
   "cell_type": "code",
   "execution_count": 14,
   "id": "fc5084e9",
   "metadata": {
    "deletable": false,
    "nbgrader": {
     "cell_type": "code",
     "checksum": "6f452aaa24d69e2257c0851d750fd4aa",
     "grade": false,
     "grade_id": "cell-a96e9a6d51919ffc",
     "locked": false,
     "schema_version": 3,
     "solution": true,
     "task": false
    }
   },
   "outputs": [],
   "source": [
    "def log_loss_vectorized(w, b,X, y, alpha=0):\n",
    "    \"\"\"\n",
    "    log loss function WITHOUT FOR LOOPs\n",
    "    \n",
    "    Returns a tuple of:\n",
    "    - loss \n",
    "    - gradient with respect to weights w\n",
    "    \"\"\"\n",
    "    loss = 0.0\n",
    "    dw = np.zeros_like(w)\n",
    "    db = 0.0\n",
    "    \n",
    "    # YOUR CODE HERE\n",
    "    # loss\n",
    "    sig = sigmoid(X.dot(w)+b)\n",
    "    loss -= sum( y * np.log(sig) + (1-y) * np.log(1-sig) )\n",
    "    s1 = alpha * w.T.dot(w)\n",
    "    loss = (loss + s1) / y.shape[0]\n",
    "    \n",
    "    # gradient with respect to weights w\n",
    "    s1 = 2 * alpha * w\n",
    "    s2 = X.T.dot(sig - y)\n",
    "    dw = (s1 + s2)/y.shape[0]\n",
    "    \n",
    "    # gradient with respect to bias b\n",
    "    s3 = sum(sig - y)\n",
    "    db = s3 / y.shape[0]\n",
    "    \n",
    "    return loss, dw, np.array(db).reshape(1,)"
   ]
  },
  {
   "cell_type": "code",
   "execution_count": 15,
   "id": "c425e768",
   "metadata": {
    "deletable": false,
    "editable": false,
    "nbgrader": {
     "cell_type": "code",
     "checksum": "37c0df2fc2b67514a7bd11e120562fa1",
     "grade": true,
     "grade_id": "cell-ca14e49ada130789",
     "locked": true,
     "points": 1,
     "schema_version": 3,
     "solution": false,
     "task": false
    }
   },
   "outputs": [
    {
     "name": "stdout",
     "output_type": "stream",
     "text": [
      "Loss error :  1.6053362227673423e-16\n",
      "Gradient check w\n",
      "numerical: 0.010591 analytic: 0.010591, relative error: 1.215677e-09\n",
      "numerical: 0.014769 analytic: 0.014769, relative error: 1.140001e-09\n",
      "numerical: -1.724903 analytic: -1.724903, relative error: 1.431438e-10\n",
      "numerical: -2.090239 analytic: -2.090239, relative error: 3.075403e-10\n",
      "numerical: -0.008426 analytic: -0.008426, relative error: 2.164990e-09\n",
      "numerical: 0.001163 analytic: 0.001163, relative error: 2.344502e-08\n",
      "numerical: -0.000408 analytic: -0.000408, relative error: 1.452814e-08\n",
      "numerical: 0.009682 analytic: 0.009682, relative error: 1.189430e-09\n",
      "numerical: 0.009682 analytic: 0.009682, relative error: 1.189430e-09\n",
      "numerical: -0.002769 analytic: -0.002769, relative error: 5.994823e-09\n",
      "numerical: -0.164755 analytic: -0.164755, relative error: 1.145457e-10\n",
      "numerical: -0.000884 analytic: -0.000884, relative error: 9.012045e-09\n",
      "numerical: -0.000367 analytic: -0.000367, relative error: 3.534357e-09\n",
      "numerical: 0.007913 analytic: 0.007913, relative error: 2.899112e-09\n",
      "numerical: 0.001163 analytic: 0.001163, relative error: 2.344502e-08\n",
      "Gradient check bias\n",
      "numerical: -0.133859 analytic: -0.133859, relative error: 2.492842e-11\n",
      "numerical: -0.133859 analytic: -0.133859, relative error: 2.492842e-11\n",
      "numerical: -0.133859 analytic: -0.133859, relative error: 2.492842e-11\n",
      "numerical: -0.133859 analytic: -0.133859, relative error: 2.492842e-11\n",
      "numerical: -0.133859 analytic: -0.133859, relative error: 2.492842e-11\n",
      "numerical: -0.133859 analytic: -0.133859, relative error: 2.492842e-11\n",
      "numerical: -0.133859 analytic: -0.133859, relative error: 2.492842e-11\n",
      "numerical: -0.133859 analytic: -0.133859, relative error: 2.492842e-11\n",
      "numerical: -0.133859 analytic: -0.133859, relative error: 2.492842e-11\n",
      "numerical: -0.133859 analytic: -0.133859, relative error: 2.492842e-11\n",
      "numerical: -0.133859 analytic: -0.133859, relative error: 2.492842e-11\n",
      "numerical: -0.133859 analytic: -0.133859, relative error: 2.492842e-11\n",
      "numerical: -0.133859 analytic: -0.133859, relative error: 2.492842e-11\n",
      "numerical: -0.133859 analytic: -0.133859, relative error: 2.492842e-11\n",
      "numerical: -0.133859 analytic: -0.133859, relative error: 2.492842e-11\n"
     ]
    }
   ],
   "source": [
    "y_pred_0 = sigmoid(X_train2 @ w2 + b2)\n",
    "y_pred = np.vstack([1-y_pred_0, y_pred_0]).T\n",
    "sk_loss = log_loss(y_train2, y_pred)\n",
    "\n",
    "loss, dw2, db2 = log_loss_vectorized(w2, b2, X_train2, y_train2, alpha=0)\n",
    "assert rel_error(loss, sk_loss) < 1e-9\n",
    "print(\"Loss error : \",rel_error(loss, sk_loss))\n",
    "\n",
    "print(\"Gradient check w\")\n",
    "# Check with numerical gradient w\n",
    "f = lambda w2: log_loss_vectorized(w2, b2, X_train2, y_train2, alpha=0)[0]\n",
    "grad_numerical = grad_check_sparse(f, w2, dw2, 15, error=1e-4)\n",
    "\n",
    "print(\"Gradient check bias\")\n",
    "# Check with numerical gradient b\n",
    "f2 = lambda b2: log_loss_vectorized(w2, b2, X_train2, y_train2, alpha=0)[0]\n",
    "grad_numerical = grad_check_sparse(f2, b2, db2, 15,  error=1e-5)"
   ]
  },
  {
   "cell_type": "markdown",
   "id": "dc7be5da",
   "metadata": {},
   "source": [
    "# Vectorized with regularization"
   ]
  },
  {
   "cell_type": "code",
   "execution_count": 16,
   "id": "a4e09127",
   "metadata": {
    "deletable": false,
    "editable": false,
    "nbgrader": {
     "cell_type": "code",
     "checksum": "53e97adc2666d529eff9ba1abcd3756a",
     "grade": true,
     "grade_id": "cell-bce082fccf8b7057",
     "locked": true,
     "points": 1,
     "schema_version": 3,
     "solution": false,
     "task": false
    }
   },
   "outputs": [
    {
     "name": "stdout",
     "output_type": "stream",
     "text": [
      "Gradient check w\n",
      "numerical: -0.001037 analytic: -0.001037, relative error: 4.610958e-10\n",
      "numerical: 0.007913 analytic: 0.007913, relative error: 2.886004e-09\n",
      "numerical: -0.010472 analytic: -0.010472, relative error: 2.707419e-09\n",
      "numerical: -2.090240 analytic: -2.090240, relative error: 3.074138e-10\n",
      "numerical: 31.900471 analytic: 31.900418, relative error: 8.179352e-07\n",
      "numerical: 31.900471 analytic: 31.900418, relative error: 8.179352e-07\n",
      "numerical: -0.008446 analytic: -0.008446, relative error: 8.618521e-10\n",
      "numerical: 0.007913 analytic: 0.007913, relative error: 2.886004e-09\n",
      "numerical: 31.900471 analytic: 31.900418, relative error: 8.179352e-07\n",
      "numerical: 0.001163 analytic: 0.001163, relative error: 2.278968e-08\n",
      "numerical: -0.000407 analytic: -0.000407, relative error: 1.142815e-08\n",
      "numerical: -0.000368 analytic: -0.000368, relative error: 5.746886e-10\n",
      "numerical: 0.014770 analytic: 0.014770, relative error: 1.209109e-09\n",
      "numerical: -3.660894 analytic: -3.660894, relative error: 9.509596e-09\n",
      "numerical: 0.009682 analytic: 0.009682, relative error: 1.121382e-09\n",
      "Gradient check bias\n",
      "numerical: -0.133859 analytic: -0.133859, relative error: 4.193528e-12\n",
      "numerical: -0.133859 analytic: -0.133859, relative error: 4.193528e-12\n",
      "numerical: -0.133859 analytic: -0.133859, relative error: 4.193528e-12\n",
      "numerical: -0.133859 analytic: -0.133859, relative error: 4.193528e-12\n",
      "numerical: -0.133859 analytic: -0.133859, relative error: 4.193528e-12\n",
      "numerical: -0.133859 analytic: -0.133859, relative error: 4.193528e-12\n",
      "numerical: -0.133859 analytic: -0.133859, relative error: 4.193528e-12\n",
      "numerical: -0.133859 analytic: -0.133859, relative error: 4.193528e-12\n",
      "numerical: -0.133859 analytic: -0.133859, relative error: 4.193528e-12\n",
      "numerical: -0.133859 analytic: -0.133859, relative error: 4.193528e-12\n",
      "numerical: -0.133859 analytic: -0.133859, relative error: 4.193528e-12\n",
      "numerical: -0.133859 analytic: -0.133859, relative error: 4.193528e-12\n",
      "numerical: -0.133859 analytic: -0.133859, relative error: 4.193528e-12\n",
      "numerical: -0.133859 analytic: -0.133859, relative error: 4.193528e-12\n",
      "numerical: -0.133859 analytic: -0.133859, relative error: 4.193528e-12\n"
     ]
    }
   ],
   "source": [
    "loss, dw2, db2 = log_loss_vectorized(w2, b2, X_train2, y_train2, alpha=1)\n",
    "\n",
    "print(\"Gradient check w\")\n",
    "# Check with numerical gradient w\n",
    "f = lambda w2: log_loss_vectorized(w2, b2, X_train2, y_train2, alpha=1)[0]\n",
    "grad_numerical = grad_check_sparse(f, w2, dw2, 15, error=1e-4)\n",
    "\n",
    "print(\"Gradient check bias\")\n",
    "# Check with numerical gradient b\n",
    "f2 = lambda b2: log_loss_vectorized(w2, b2, X_train2, y_train2, alpha=1)[0]\n",
    "grad_numerical = grad_check_sparse(f2, b2, db2, 15,  error=1e-5)"
   ]
  },
  {
   "cell_type": "markdown",
   "id": "06403ea0",
   "metadata": {},
   "source": [
    "# Gradient descent for Linear models"
   ]
  },
  {
   "cell_type": "code",
   "execution_count": 17,
   "id": "5039af1c",
   "metadata": {
    "deletable": false,
    "nbgrader": {
     "cell_type": "code",
     "checksum": "9a1783db1a1f1898028260238567bed7",
     "grade": false,
     "grade_id": "cell-485e52c0efd4f4a9",
     "locked": false,
     "schema_version": 3,
     "solution": true,
     "task": false
    }
   },
   "outputs": [],
   "source": [
    "class LinearModel():\n",
    "    def __init__(self):\n",
    "        self.w = None\n",
    "        self.b = None\n",
    "\n",
    "    def train(self, X, y, learning_rate=1e-3, alpha=0, num_iters=100, batch_size=200, verbose=False):\n",
    "        N, d = X.shape\n",
    "        \n",
    "        if self.w is None: # Initialization\n",
    "            self.w = 0.001 * np.random.randn(d)\n",
    "            self.b = 0.0\n",
    "\n",
    "        # Run stochastic gradient descent to optimize w\n",
    "        \n",
    "        loss_history = []\n",
    "        for it in range(num_iters):\n",
    "            X_batch = None\n",
    "            y_batch = None\n",
    "                                                               \n",
    "            # Sample batch_size elements in X_batch and y_batch\n",
    "            # X_batch shape is  (batch_size, d) and y_batch shape is (batch_size,)                                                                                          \n",
    "            # Hint: Use np.random.choice to generate indices\n",
    "            rand = np.random.choice(N, batch_size, replace=False)\n",
    "            \n",
    "            X_batch = X[rand, :]\n",
    "            y_batch = y[rand]\n",
    "            \n",
    "            # evaluate loss and gradient\n",
    "            loss, dw, db = self.loss(X_batch, y_batch, alpha)\n",
    "            loss_history.append(loss)\n",
    "\n",
    "            # perform parameter update                                                                \n",
    "            # Update the weights w and bias b using the gradient and the learning rate.          \n",
    "            self.w -= learning_rate * dw\n",
    "            self.b -= learning_rate * db\n",
    "            \n",
    "            if verbose and it % 10000 == 0:\n",
    "                print(\"iteration %d / %d: loss %f\" % (it, num_iters, loss))\n",
    "                \n",
    "        return loss_history\n",
    "\n",
    "    def predict(self, X):\n",
    "        pass\n",
    "\n",
    "    def loss(self, X_batch, y_batch, reg):\n",
    "        pass\n",
    "\n",
    "class LinearRegressor(LinearModel):\n",
    "    \"\"\" Linear regression \"\"\"\n",
    "\n",
    "    def loss(self, X_batch, y_batch, alpha):\n",
    "        return mse_loss_vectorized(self.w, self.b, X_batch, y_batch, alpha)\n",
    "    \n",
    "    def predict(self, X):\n",
    "        y = X.dot(self.w) + self.b\n",
    "        return y\n",
    "\n",
    "class LogisticRegressor(LinearModel):\n",
    "    \"\"\" Linear regression \"\"\"\n",
    "\n",
    "    def loss(self, X_batch, y_batch, alpha):\n",
    "        return log_loss_vectorized(self.w, self.b, X_batch, y_batch, alpha)\n",
    "    \n",
    "    def predict(self, X):\n",
    "        \"\"\" Return prediction labels vector of 0 or 1 \"\"\"\n",
    "        # YOUR CODE HERE\n",
    "        y = X.dot(self.w) + self.b\n",
    "        r = np.zeros_like(y)\n",
    "        for i in range(len(y)):\n",
    "            r[i] = 1 if y[i]>0 else 0\n",
    "        return r"
   ]
  },
  {
   "cell_type": "markdown",
   "id": "7fa0aa79",
   "metadata": {},
   "source": [
    "## Linear regression with gradient descent"
   ]
  },
  {
   "cell_type": "code",
   "execution_count": 18,
   "id": "86925e00",
   "metadata": {
    "deletable": false,
    "editable": false,
    "nbgrader": {
     "cell_type": "code",
     "checksum": "30f1c271b16efe670214663c10743937",
     "grade": true,
     "grade_id": "cell-92f36a3b387a4277",
     "locked": true,
     "points": 2,
     "schema_version": 3,
     "solution": false,
     "task": false
    }
   },
   "outputs": [
    {
     "name": "stdout",
     "output_type": "stream",
     "text": [
      "iteration 0 / 75000: loss 31775.487941\n",
      "iteration 10000 / 75000: loss 2951.152194\n",
      "iteration 20000 / 75000: loss 3723.112860\n",
      "iteration 30000 / 75000: loss 2426.692002\n",
      "iteration 40000 / 75000: loss 3985.396419\n",
      "iteration 50000 / 75000: loss 2580.550531\n",
      "iteration 60000 / 75000: loss 2815.209782\n",
      "iteration 70000 / 75000: loss 2529.564721\n",
      "MSE scikit-learn: 2859.6903987680657\n",
      "MSE gradient descent model : 2884.97938561255\n"
     ]
    }
   ],
   "source": [
    "from sklearn.linear_model import LinearRegression\n",
    "\n",
    "sk_model = LinearRegression(fit_intercept=True)\n",
    "sk_model.fit(X_train1, y_train1)\n",
    "sk_pred = sk_model.predict(X_train1)\n",
    "sk_mse = mean_squared_error(sk_pred, y_train1)\n",
    "\n",
    "model = LinearRegressor()\n",
    "model.train(X_train1, y_train1, num_iters=75000, batch_size=64, learning_rate=1e-2, verbose=True)\n",
    "pred = model.predict(X_train1)\n",
    "mse = mean_squared_error(pred, y_train1)\n",
    "\n",
    "print(\"MSE scikit-learn:\", sk_mse)\n",
    "print(\"MSE gradient descent model :\", mse)\n",
    "assert mse - sk_mse < 100"
   ]
  },
  {
   "cell_type": "markdown",
   "id": "d17c54d8",
   "metadata": {},
   "source": [
    "## Logistc regression with gradient descent"
   ]
  },
  {
   "cell_type": "code",
   "execution_count": 19,
   "id": "9219f422",
   "metadata": {
    "deletable": false,
    "editable": false,
    "nbgrader": {
     "cell_type": "code",
     "checksum": "c6196155f76f4eded31fefce67a76d60",
     "grade": true,
     "grade_id": "cell-925a2ddb5c1ba7ff",
     "locked": true,
     "points": 2,
     "schema_version": 3,
     "solution": false,
     "task": false
    }
   },
   "outputs": [
    {
     "name": "stdout",
     "output_type": "stream",
     "text": [
      "iteration 0 / 75000: loss 0.693404\n",
      "iteration 10000 / 75000: loss 0.087601\n",
      "iteration 20000 / 75000: loss 0.068377\n",
      "iteration 30000 / 75000: loss 0.127894\n",
      "iteration 40000 / 75000: loss 0.051696\n",
      "iteration 50000 / 75000: loss 0.065748\n",
      "iteration 60000 / 75000: loss 0.045060\n",
      "iteration 70000 / 75000: loss 0.045071\n",
      "Log-loss scikit-learn: 0.4249086712816093\n",
      "Log-loss gradiet descent model : 0.4249086712816093\n",
      "Error : 0.0\n"
     ]
    }
   ],
   "source": [
    "from sklearn.linear_model import LogisticRegression\n",
    "from sklearn.preprocessing import StandardScaler\n",
    "\n",
    "scaler = StandardScaler()\n",
    "X_train2 = scaler.fit_transform(X_train2)\n",
    "\n",
    "sk_model = LogisticRegression(fit_intercept=True)\n",
    "sk_model.fit(X_train2, y_train2)\n",
    "sk_pred = sk_model.predict(X_train2)\n",
    "sk_log_loss = log_loss(sk_pred, y_train2)\n",
    "\n",
    "model = LogisticRegressor()\n",
    "model.train(X_train2, y_train2, num_iters=75000, batch_size=64, learning_rate=1e-3, verbose=True)\n",
    "pred = model.predict(X_train2)\n",
    "model_log_loss = log_loss(pred, y_train2)\n",
    "\n",
    "print(\"Log-loss scikit-learn:\", sk_log_loss)\n",
    "print(\"Log-loss gradiet descent model :\", model_log_loss)\n",
    "print(\"Error :\", rel_error(sk_log_loss, model_log_loss))\n",
    "assert rel_error(sk_log_loss, model_log_loss) < 1e-7"
   ]
  }
 ],
 "metadata": {
  "kernelspec": {
   "display_name": "Python 3",
   "language": "python",
   "name": "python3"
  },
  "language_info": {
   "codemirror_mode": {
    "name": "ipython",
    "version": 3
   },
   "file_extension": ".py",
   "mimetype": "text/x-python",
   "name": "python",
   "nbconvert_exporter": "python",
   "pygments_lexer": "ipython3",
   "version": "3.8.8"
  }
 },
 "nbformat": 4,
 "nbformat_minor": 5
}
