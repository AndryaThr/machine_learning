{
 "cells": [
  {
   "cell_type": "markdown",
   "id": "d16fcae5",
   "metadata": {},
   "source": [
    "Before you turn this problem in, make sure everything runs as expected. First, **restart the kernel** (in the menubar, select Kernel$\\rightarrow$Restart) and then **run all cells** (in the menubar, select Cell$\\rightarrow$Run All).\n",
    "\n",
    "Make sure you fill in any place that says `YOUR CODE HERE` or \"YOUR ANSWER HERE\", as well as your name and collaborators below:"
   ]
  },
  {
   "cell_type": "markdown",
   "id": "bc4e3639",
   "metadata": {},
   "source": [
    "---"
   ]
  },
  {
   "cell_type": "code",
   "execution_count": 1,
   "id": "ab42c33c",
   "metadata": {
    "deletable": false,
    "editable": false,
    "nbgrader": {
     "cell_type": "code",
     "checksum": "e1e2e40465642c4fdf199b183cad1aca",
     "grade": false,
     "grade_id": "cell-38b4529793385ad1",
     "locked": true,
     "schema_version": 3,
     "solution": false,
     "task": false
    }
   },
   "outputs": [],
   "source": [
    "from random import randrange\n",
    "import numpy as np\n",
    "from sklearn.metrics import mean_squared_error, log_loss\n",
    "from sklearn.datasets import load_breast_cancer, load_diabetes\n",
    "from sklearn.linear_model import Lasso, LinearRegression\n",
    "from sklearn.preprocessing import normalize\n",
    "\n",
    "\n",
    "def grad_check_sparse(f, x, analytic_grad, num_checks=10, h=1e-5, error=1e-9):\n",
    "    \"\"\"\n",
    "    sample a few random elements and only return numerical\n",
    "    in this dimensions\n",
    "    \"\"\"\n",
    "\n",
    "    for i in range(num_checks):\n",
    "        ix = tuple([randrange(m) for m in x.shape])\n",
    "\n",
    "        oldval = x[ix]\n",
    "        x[ix] = oldval + h  # increment by h\n",
    "        fxph = f(x)  # evaluate f(x + h)\n",
    "        x[ix] = oldval - h  # increment by h\n",
    "        fxmh = f(x)  # evaluate f(x - h)\n",
    "        x[ix] = oldval  # reset\n",
    "\n",
    "        grad_numerical = (fxph - fxmh) / (2 * h)\n",
    "        grad_analytic = analytic_grad[ix]\n",
    "        rel_error = abs(grad_numerical - grad_analytic) / (\n",
    "            abs(grad_numerical) + abs(grad_analytic)\n",
    "        )\n",
    "        print(\n",
    "            \"numerical: %f analytic: %f, relative error: %e\"\n",
    "            % (grad_numerical, grad_analytic, rel_error)\n",
    "        )\n",
    "        assert rel_error < error\n",
    "\n",
    "def rel_error(x, y):\n",
    "    \"\"\" returns relative error \"\"\"\n",
    "    return np.max(np.abs(x - y) / (np.maximum(1e-8, np.abs(x) + np.abs(y))))"
   ]
  },
  {
   "cell_type": "code",
   "execution_count": 2,
   "id": "7d7abcf9",
   "metadata": {
    "deletable": false,
    "editable": false,
    "nbgrader": {
     "cell_type": "code",
     "checksum": "fece078db4194ca23bff4bd477484c9f",
     "grade": false,
     "grade_id": "cell-2d8d2723a816a3da",
     "locked": true,
     "schema_version": 3,
     "solution": false,
     "task": false
    }
   },
   "outputs": [],
   "source": [
    "data = load_diabetes()\n",
    "X, y = data.data, data.target"
   ]
  },
  {
   "cell_type": "code",
   "execution_count": 3,
   "id": "5c6b011f",
   "metadata": {
    "deletable": false,
    "nbgrader": {
     "cell_type": "code",
     "checksum": "4a58f8c2b00062e871c025fe26fd9f14",
     "grade": false,
     "grade_id": "cell-1528a28f467d90c7",
     "locked": false,
     "schema_version": 3,
     "solution": true,
     "task": false
    }
   },
   "outputs": [],
   "source": [
    "def mse_loss_vectorized(w, b, X, y):\n",
    "    \"\"\"\n",
    "    MSE loss function WITHOUT FOR LOOPs , NO REGULARIZATION\n",
    "    \n",
    "    Returns a tuple of:\n",
    "    - loss \n",
    "    - gradient with respect to weights w\n",
    "    - gradient with respect to bias b\n",
    "    \"\"\"\n",
    "    loss = 0.0\n",
    "    dw = np.zeros_like(w)\n",
    "    \n",
    "    # YOUR CODE HERE\n",
    "    # raise NotImplementedError()\n",
    "    y_pred = X.dot(w) + b\n",
    "    \n",
    "    # loss \n",
    "    loss = (1.0 / X.shape[0]) * ((y - y_pred) ** 2).sum()\n",
    "    \n",
    "    # gradient with respect to weights\n",
    "    dw = - (2.0 / X.shape[0]) * X.T.dot(y - y_pred)\n",
    "    \n",
    "    # gradient with respect to bias\n",
    "    db = - (2.0 / X.shape[0]) * ((y - y_pred)).sum()\n",
    "    \n",
    "    return loss, dw, np.array(db).reshape(1,)"
   ]
  },
  {
   "cell_type": "markdown",
   "id": "32a495df-6166-4983-951c-d40a89688e46",
   "metadata": {},
   "source": [
    "https://rpubs.com/Xiaocai/379592\n",
    "https://www.kaggle.com/code/residentmario/soft-thresholding-with-lasso-regression/notebook"
   ]
  },
  {
   "cell_type": "code",
   "execution_count": 4,
   "id": "f698dab4",
   "metadata": {
    "deletable": false,
    "nbgrader": {
     "cell_type": "code",
     "checksum": "a555de4acfff6e4b6b10deedfcec8a97",
     "grade": false,
     "grade_id": "cell-0317c2a47220a71f",
     "locked": false,
     "schema_version": 3,
     "solution": true,
     "task": false
    }
   },
   "outputs": [],
   "source": [
    "def soft_threshold(x, delta):\n",
    "    # YOUR CODE HERE\n",
    "    # raise NotImplementedError()\n",
    "    if x > delta:\n",
    "        return x - delta\n",
    "    elif x < (- delta):\n",
    "        return x + delta\n",
    "    else:\n",
    "        return 0"
   ]
  },
  {
   "cell_type": "markdown",
   "id": "cfe3f35e",
   "metadata": {},
   "source": [
    "# Lasso Subgradient Descent"
   ]
  },
  {
   "cell_type": "code",
   "execution_count": 5,
   "id": "d2fdac6f",
   "metadata": {
    "deletable": false,
    "nbgrader": {
     "cell_type": "code",
     "checksum": "13377ad3c38d687f1097ea78e67e00d7",
     "grade": false,
     "grade_id": "cell-1f9c055ff5b25c0e",
     "locked": false,
     "schema_version": 3,
     "solution": true,
     "task": false
    }
   },
   "outputs": [],
   "source": [
    "def l1_subgradient(w):\n",
    "    \"\"\"\n",
    "    Subgradient of the L1 loss\n",
    "    \"\"\"\n",
    "    dw = np.zeros_like(w)\n",
    "    # YOUR CODE HERE\n",
    "    # raise NotImplementedError()\n",
    "    \n",
    "    dw = np.sign(w)\n",
    "    return dw\n",
    "\n",
    "def lasso_subgradient_mse_loss_vectorized(w, b, X, y, alpha):\n",
    "    \"\"\"\n",
    "    MSE loss function adding the subgradient for w\n",
    "    \"\"\"\n",
    "    loss, dw, db = mse_loss_vectorized(w, b, X, y)\n",
    "    # Add the subgradient to dw\n",
    "    # YOUR CODE HERE\n",
    "    # raise NotImplementedError()\n",
    "    \n",
    "    dw += alpha * l1_subgradient(w)\n",
    "    return loss, dw, db"
   ]
  },
  {
   "cell_type": "code",
   "execution_count": 6,
   "id": "fdfaa3d7",
   "metadata": {
    "deletable": false,
    "nbgrader": {
     "cell_type": "code",
     "checksum": "8f147544f1239cc3a8b31c9de6b9df0d",
     "grade": false,
     "grade_id": "cell-10e416072a8b14f8",
     "locked": false,
     "schema_version": 3,
     "solution": true,
     "task": false
    }
   },
   "outputs": [],
   "source": [
    "class LassolSubgradientDescent():\n",
    "    def __init__(self,  alpha=0.1):\n",
    "        self.w = None\n",
    "        self.b = None\n",
    "        self.alpha = alpha\n",
    "\n",
    "    def train(self, X, y, learning_rate=1e-3, num_iters=100, batch_size=200, verbose=False):\n",
    "        N, d = X.shape\n",
    "        \n",
    "        if self.w is None: # Initialization\n",
    "            self.w = 0.001 * np.random.randn(d)\n",
    "            self.b = 0.0\n",
    "\n",
    "        # Run stochastic gradient descent to optimize w\n",
    "        \n",
    "        loss_history = []\n",
    "        for it in range(num_iters):\n",
    "            X_batch = None\n",
    "            y_batch = None\n",
    "                                                               \n",
    "            # Sample batch_size elements in X_batch and y_batch\n",
    "            # X_batch shape is  (batch_size, d) and y_batch shape is (batch_size,)                                                                                          \n",
    "            # Hint: Use np.random.choice to generate indices\n",
    "            # YOUR CODE HERE\n",
    "            # raise NotImplementedError()\n",
    "            choices = np.random.choice(N, batch_size, replace=False)\n",
    "            \n",
    "            X_batch = X[choices, :]\n",
    "            y_batch = y[choices]\n",
    "            \n",
    "            # evaluate loss and gradient\n",
    "            loss, dw, db = self.loss(X_batch, y_batch)\n",
    "\n",
    "            # perform parameter update                                                                \n",
    "            # Update the weights w using the gradient and the learning rate.  \n",
    "            # YOUR CODE HERE\n",
    "            # raise NotImplementedError()\n",
    "            self.w -= learning_rate * dw\n",
    "            self.b -= learning_rate * db\n",
    "            \n",
    "            if verbose and it % 10000 == 0:\n",
    "                print(\"iteration %d / %d: loss %f\" % (it, num_iters, loss))\n",
    "    \n",
    "    \n",
    "    def predict(self, X):\n",
    "        # YOUR CODE HERE\n",
    "        # raise NotImplementedError()\n",
    "        y_pred = X.dot(self.w) + self.b\n",
    "        return y_pred\n",
    "\n",
    "    def loss(self, X_batch, y_batch):\n",
    "        return lasso_subgradient_mse_loss_vectorized(self.w, self.b, X_batch, y_batch, self.alpha)"
   ]
  },
  {
   "cell_type": "code",
   "execution_count": 7,
   "id": "52e20f18",
   "metadata": {
    "deletable": false,
    "editable": false,
    "nbgrader": {
     "cell_type": "code",
     "checksum": "afc1e003d52538e82629ca2282c819ba",
     "grade": true,
     "grade_id": "cell-8a6c6c3fea10a22e",
     "locked": true,
     "points": 3,
     "schema_version": 3,
     "solution": false,
     "task": false
    }
   },
   "outputs": [
    {
     "name": "stdout",
     "output_type": "stream",
     "text": [
      "iteration 0 / 200000: loss 26823.781012\n",
      "iteration 10000 / 200000: loss 3513.986187\n",
      "iteration 20000 / 200000: loss 3244.827846\n",
      "iteration 30000 / 200000: loss 2901.080772\n",
      "iteration 40000 / 200000: loss 2874.278726\n",
      "iteration 50000 / 200000: loss 2746.304920\n",
      "iteration 60000 / 200000: loss 2975.101279\n",
      "iteration 70000 / 200000: loss 2464.897137\n",
      "iteration 80000 / 200000: loss 3165.359047\n",
      "iteration 90000 / 200000: loss 2800.433954\n",
      "iteration 100000 / 200000: loss 3236.405989\n",
      "iteration 110000 / 200000: loss 2497.484149\n",
      "iteration 120000 / 200000: loss 2989.652798\n",
      "iteration 130000 / 200000: loss 2986.302230\n",
      "iteration 140000 / 200000: loss 3132.918971\n",
      "iteration 150000 / 200000: loss 2783.598636\n",
      "iteration 160000 / 200000: loss 3111.435969\n",
      "iteration 170000 / 200000: loss 2724.482056\n",
      "iteration 180000 / 200000: loss 2847.456401\n",
      "iteration 190000 / 200000: loss 2778.634817\n",
      "MSE scikit-learn: 2912.521795117546\n",
      "MSE Coordinate descent model : 2888.936905005078\n"
     ]
    }
   ],
   "source": [
    "model = LassolSubgradientDescent(alpha=0.1)\n",
    "model.train(X, y, learning_rate=1e-2,verbose=True, num_iters=200_000)\n",
    "pred = model.predict(X)\n",
    "mse = mean_squared_error(pred, y)\n",
    "\n",
    "sk_model = Lasso(alpha=0.1, fit_intercept=True)\n",
    "sk_model.fit(X, y)\n",
    "sk_pred = sk_model.predict(X)\n",
    "sk_mse = mean_squared_error(sk_pred, y)\n",
    "\n",
    "print(\"MSE scikit-learn:\", sk_mse)\n",
    "print(\"MSE Coordinate descent model :\", mse)\n",
    "assert mse - sk_mse < 50"
   ]
  },
  {
   "cell_type": "code",
   "execution_count": 8,
   "id": "2b9e02f8",
   "metadata": {
    "deletable": false,
    "editable": false,
    "nbgrader": {
     "cell_type": "code",
     "checksum": "5014aa1adfb704c0b9a8b597121bed85",
     "grade": true,
     "grade_id": "cell-67638b8b82d2ee79",
     "locked": true,
     "points": 3,
     "schema_version": 3,
     "solution": false,
     "task": false
    }
   },
   "outputs": [
    {
     "name": "stdout",
     "output_type": "stream",
     "text": [
      "iteration 0 / 200000: loss 28538.933103\n",
      "iteration 10000 / 200000: loss 4559.724505\n",
      "iteration 20000 / 200000: loss 3602.320496\n",
      "iteration 30000 / 200000: loss 3724.699878\n",
      "iteration 40000 / 200000: loss 3931.723151\n",
      "iteration 50000 / 200000: loss 4094.531449\n",
      "iteration 60000 / 200000: loss 3674.446541\n",
      "iteration 70000 / 200000: loss 4011.911913\n",
      "iteration 80000 / 200000: loss 3368.886326\n",
      "iteration 90000 / 200000: loss 3476.223895\n",
      "iteration 100000 / 200000: loss 3972.318205\n",
      "iteration 110000 / 200000: loss 4027.532532\n",
      "iteration 120000 / 200000: loss 3480.428465\n",
      "iteration 130000 / 200000: loss 3638.098722\n",
      "iteration 140000 / 200000: loss 3636.810858\n",
      "iteration 150000 / 200000: loss 3991.893475\n",
      "iteration 160000 / 200000: loss 3457.385396\n",
      "iteration 170000 / 200000: loss 3864.188688\n",
      "iteration 180000 / 200000: loss 3698.949016\n",
      "iteration 190000 / 200000: loss 4065.737345\n",
      "MSE scikit-learn: 5650.287416333697\n",
      "MSE Coordinate descent model : 3809.400527029728\n"
     ]
    }
   ],
   "source": [
    "model = LassolSubgradientDescent(alpha=2)\n",
    "model.train(X, y, learning_rate=1e-2,verbose=True, num_iters=200_000)\n",
    "pred = model.predict(X)\n",
    "mse = mean_squared_error(pred, y)\n",
    "\n",
    "sk_model = Lasso(alpha=2, fit_intercept=True)\n",
    "sk_model.fit(X, y)\n",
    "sk_pred = sk_model.predict(X)\n",
    "sk_mse = mean_squared_error(sk_pred, y)\n",
    "\n",
    "print(\"MSE scikit-learn:\", sk_mse)\n",
    "print(\"MSE Coordinate descent model :\", mse)\n",
    "assert mse - sk_mse < 50"
   ]
  },
  {
   "cell_type": "markdown",
   "id": "cfec4298",
   "metadata": {},
   "source": [
    "# Lasso Proximal Gradient Descent (iterative soft thresholding algorithm or ISTA)"
   ]
  },
  {
   "cell_type": "code",
   "execution_count": 9,
   "id": "4ea93876",
   "metadata": {
    "deletable": false,
    "nbgrader": {
     "cell_type": "code",
     "checksum": "7b58bd5f2fe2a364683285cec3dae2e7",
     "grade": false,
     "grade_id": "cell-7a3567bcf30b2f18",
     "locked": false,
     "schema_version": 3,
     "solution": true,
     "task": false
    }
   },
   "outputs": [],
   "source": [
    "class LassoProximalGradientDescent():\n",
    "    def __init__(self,  alpha=0.1):\n",
    "        self.w = None\n",
    "        self.b = None\n",
    "        self.alpha = alpha\n",
    "\n",
    "    def train(self, X, y, learning_rate=1e-3, num_iters=100, batch_size=200, verbose=False):\n",
    "        N, d = X.shape\n",
    "        \n",
    "        if self.w is None: # Initialization\n",
    "            self.w = 0.001 * np.random.randn(d)\n",
    "            self.b = 0.0\n",
    "\n",
    "        # Run stochastic gradient descent to optimize w\n",
    "        \n",
    "        loss_history = []\n",
    "        for it in range(num_iters):\n",
    "            X_batch = None\n",
    "            y_batch = None\n",
    "                                                               \n",
    "            # Sample batch_size elements in X_batch and y_batch\n",
    "            # X_batch shape is  (batch_size, d) and y_batch shape is (batch_size,)                                                                                          \n",
    "            # Hint: Use np.random.choice to generate indices\n",
    "            # YOUR CODE HERE\n",
    "            # raise NotImplementedError()\n",
    "            choices = np.random.choice(N, batch_size, replace=False)\n",
    "            \n",
    "            X_batch = X[choices, :]\n",
    "            y_batch = y[choices]\n",
    "            \n",
    "            # evaluate loss and gradient\n",
    "            loss, dw, db = self.loss(X_batch, y_batch)\n",
    "\n",
    "            # perform parameter update                                                                \n",
    "            # Update the weights w using the gradient and the learning rate.  \n",
    "            # PROJECT THE GRADIENT FOR w USING soft_threshold\n",
    "            # YOUR CODE HERE\n",
    "            # raise NotImplementedError()\n",
    "            \n",
    "            for i in range(d):\n",
    "                self.w[i] = soft_threshold(self.w[i] - learning_rate * dw[i], self.alpha * learning_rate)\n",
    "\n",
    "            self.b -= learning_rate * db\n",
    "            if verbose and it % 10000 == 0:\n",
    "                print(\"iteration %d / %d: loss %f\" % (it, num_iters, loss))\n",
    "\n",
    "    def predict(self, X):\n",
    "        # YOUR CODE HERE\n",
    "        # raise NotImplementedError()\n",
    "        y_pred = X.dot(self.w) + self.b\n",
    "        return y_pred\n",
    "\n",
    "    def loss(self, X_batch, y_batch):\n",
    "        return mse_loss_vectorized(self.w, self.b, X_batch, y_batch)"
   ]
  },
  {
   "cell_type": "code",
   "execution_count": 10,
   "id": "9388e722",
   "metadata": {
    "deletable": false,
    "editable": false,
    "nbgrader": {
     "cell_type": "code",
     "checksum": "bc9f465d5c28afa8d682d76852df6218",
     "grade": true,
     "grade_id": "cell-e12e8a6bae8e7b5c",
     "locked": true,
     "points": 3,
     "schema_version": 3,
     "solution": false,
     "task": false
    }
   },
   "outputs": [
    {
     "name": "stdout",
     "output_type": "stream",
     "text": [
      "iteration 0 / 200000: loss 30476.981964\n",
      "iteration 10000 / 200000: loss 3222.597134\n",
      "iteration 20000 / 200000: loss 3174.351654\n",
      "iteration 30000 / 200000: loss 3138.817671\n",
      "iteration 40000 / 200000: loss 2743.299522\n",
      "iteration 50000 / 200000: loss 2701.215613\n",
      "iteration 60000 / 200000: loss 2712.943244\n",
      "iteration 70000 / 200000: loss 2996.698096\n",
      "iteration 80000 / 200000: loss 2940.145579\n",
      "iteration 90000 / 200000: loss 2506.953224\n",
      "iteration 100000 / 200000: loss 2625.918112\n",
      "iteration 110000 / 200000: loss 3006.592098\n",
      "iteration 120000 / 200000: loss 3206.959709\n",
      "iteration 130000 / 200000: loss 2676.412980\n",
      "iteration 140000 / 200000: loss 2831.942673\n",
      "iteration 150000 / 200000: loss 2766.138862\n",
      "iteration 160000 / 200000: loss 2556.010907\n",
      "iteration 170000 / 200000: loss 2987.070923\n",
      "iteration 180000 / 200000: loss 2869.074655\n",
      "iteration 190000 / 200000: loss 2800.779310\n",
      "MSE scikit-learn: 2912.521795117546\n",
      "MSE Coordinate descent model : 2888.677615272093\n"
     ]
    }
   ],
   "source": [
    "model = LassoProximalGradientDescent(alpha=0.1)\n",
    "model.train(X, y, learning_rate=1e-2,verbose=True, num_iters=200_000)\n",
    "pred = model.predict(X)\n",
    "mse= mean_squared_error(pred, y)\n",
    "\n",
    "sk_model = Lasso(alpha=0.1, fit_intercept=True)\n",
    "sk_model.fit(X, y)\n",
    "sk_pred = sk_model.predict(X)\n",
    "sk_mse = mean_squared_error(sk_pred, y)\n",
    "\n",
    "print(\"MSE scikit-learn:\", sk_mse)\n",
    "print(\"MSE Coordinate descent model :\", mse)\n",
    "assert mse - sk_mse < 50"
   ]
  },
  {
   "cell_type": "code",
   "execution_count": 11,
   "id": "6d7726b1",
   "metadata": {
    "deletable": false,
    "editable": false,
    "nbgrader": {
     "cell_type": "code",
     "checksum": "492b972e858ad56355406357894884a3",
     "grade": true,
     "grade_id": "cell-a25ecff481c69c72",
     "locked": true,
     "points": 3,
     "schema_version": 3,
     "solution": false,
     "task": false
    }
   },
   "outputs": [
    {
     "name": "stdout",
     "output_type": "stream",
     "text": [
      "iteration 0 / 200000: loss 29601.318125\n",
      "iteration 10000 / 200000: loss 4786.442964\n",
      "iteration 20000 / 200000: loss 3898.549557\n",
      "iteration 30000 / 200000: loss 3715.769432\n",
      "iteration 40000 / 200000: loss 3983.054218\n",
      "iteration 50000 / 200000: loss 3925.521334\n",
      "iteration 60000 / 200000: loss 3762.723420\n",
      "iteration 70000 / 200000: loss 3533.433531\n",
      "iteration 80000 / 200000: loss 3845.723410\n",
      "iteration 90000 / 200000: loss 3632.757456\n",
      "iteration 100000 / 200000: loss 3948.627935\n",
      "iteration 110000 / 200000: loss 3863.351670\n",
      "iteration 120000 / 200000: loss 3712.963624\n",
      "iteration 130000 / 200000: loss 3764.964743\n",
      "iteration 140000 / 200000: loss 3589.052847\n",
      "iteration 150000 / 200000: loss 4153.753909\n",
      "iteration 160000 / 200000: loss 3710.887550\n",
      "iteration 170000 / 200000: loss 4080.304439\n",
      "iteration 180000 / 200000: loss 3647.606875\n",
      "iteration 190000 / 200000: loss 3750.152881\n",
      "MSE scikit-learn: 5650.287416333697\n",
      "MSE Coordinate descent model : 3812.5934334191165\n"
     ]
    }
   ],
   "source": [
    "model = LassoProximalGradientDescent(alpha=2)\n",
    "model.train(X, y, learning_rate=1e-2,verbose=True, num_iters=200_000)\n",
    "pred = model.predict(X)\n",
    "mse= mean_squared_error(pred, y)\n",
    "\n",
    "sk_model = Lasso(alpha=2, fit_intercept=True)\n",
    "sk_model.fit(X, y)\n",
    "sk_pred = sk_model.predict(X)\n",
    "sk_mse = mean_squared_error(sk_pred, y)\n",
    "\n",
    "print(\"MSE scikit-learn:\", sk_mse)\n",
    "print(\"MSE Coordinate descent model :\", mse)\n",
    "assert mse - sk_mse < 50"
   ]
  },
  {
   "cell_type": "markdown",
   "id": "cfcd57e0",
   "metadata": {},
   "source": [
    "# Lasso Projected Gradient Descent"
   ]
  },
  {
   "cell_type": "code",
   "execution_count": 12,
   "id": "1c0645e8",
   "metadata": {
    "deletable": false,
    "nbgrader": {
     "cell_type": "code",
     "checksum": "aa6df72eb9b273f99ec243c076780b62",
     "grade": false,
     "grade_id": "cell-f3bad6c8edcb61e4",
     "locked": false,
     "schema_version": 3,
     "solution": true,
     "task": false
    }
   },
   "outputs": [],
   "source": [
    "class LassoProjectedGradientDescent():\n",
    "    def __init__(self,  alpha=0.1):\n",
    "        self.w_p = None\n",
    "        self.w_n = None\n",
    "        self.b = None\n",
    "        self.alpha = alpha\n",
    "\n",
    "    def train(self, X, y, learning_rate=1e-3, num_iters=100, batch_size=200, verbose=False):\n",
    "        N, d = X.shape\n",
    "        \n",
    "        if self.w_p is None: # Initialization\n",
    "            self.w_p = 0.001 * np.random.randn(d)\n",
    "            self.w_n = 0.001 * np.random.randn(d)\n",
    "            self.b = 0.0\n",
    "\n",
    "        # Run stochastic gradient descent to optimize w\n",
    "        \n",
    "        loss_history = []\n",
    "        for it in range(num_iters):\n",
    "            X_batch = None\n",
    "            y_batch = None\n",
    "                                                               \n",
    "            # Sample batch_size elements in X_batch and y_batch\n",
    "            # X_batch shape is  (batch_size, d) and y_batch shape is (batch_size,)                                                                                          \n",
    "            # Hint: Use np.random.choice to generate indices\n",
    "            # YOUR CODE HERE\n",
    "            # raise NotImplementedError()\n",
    "            choices = np.random.choice(N, batch_size, replace=False)\n",
    "            \n",
    "            X_batch = X[choices, :]\n",
    "            y_batch = y[choices]\n",
    "            \n",
    "            # evaluate loss and gradient\n",
    "            loss, dw, db = self.loss(X_batch, y_batch)\n",
    "\n",
    "            # perform parameter update                                                                \n",
    "            # Update the weights w using the gradient and the learning rate.  \n",
    "            # Project for w_p and w_n\n",
    "            # YOUR CODE HERE\n",
    "            # raise NotImplementedError()\n",
    "            \n",
    "            w = self.w_p - self.w_n\n",
    "            grad = - X_batch.T.dot(y_batch - (X_batch.dot(w)))\n",
    "    \n",
    "            grad_wn = -grad + self.alpha * l1_subgradient(w)\n",
    "            grad_wp = grad + self.alpha * l1_subgradient(w)\n",
    "            \n",
    "            self.w_p -= learning_rate * grad_wp\n",
    "            self.w_n -= learning_rate * grad_wn\n",
    "            \n",
    "            self.b -= learning_rate * db\n",
    "            \n",
    "            if verbose and it % 10000 == 0:\n",
    "                print(\"iteration %d / %d: loss %f\" % (it, num_iters, loss))\n",
    "\n",
    "    def predict(self, X):\n",
    "        # YOUR CODE HERE\n",
    "        # raise NotImplementedError()\n",
    "        y_pred = X.dot(self.w_p - self.w_n) + self.b\n",
    "        return y_pred\n",
    "\n",
    "    def loss(self, X_batch, y_batch):\n",
    "        # YOUR CODE HERE\n",
    "        # raise NotImplementedError()\n",
    "        return mse_loss_vectorized((self.w_p-self.w_n), self.b, X_batch, y_batch)"
   ]
  },
  {
   "cell_type": "code",
   "execution_count": 13,
   "id": "40763f91",
   "metadata": {
    "deletable": false,
    "editable": false,
    "nbgrader": {
     "cell_type": "code",
     "checksum": "61b4a80e91fed67c73a22e3f23a7be0b",
     "grade": true,
     "grade_id": "cell-ab833ef2fbf36bc3",
     "locked": true,
     "points": 3,
     "schema_version": 3,
     "solution": false,
     "task": false
    }
   },
   "outputs": [
    {
     "name": "stdout",
     "output_type": "stream",
     "text": [
      "iteration 0 / 200000: loss 25737.944138\n",
      "iteration 10000 / 200000: loss 2673.887555\n",
      "iteration 20000 / 200000: loss 3112.451082\n",
      "iteration 30000 / 200000: loss 2845.420806\n",
      "iteration 40000 / 200000: loss 2795.368397\n",
      "iteration 50000 / 200000: loss 2883.648747\n",
      "iteration 60000 / 200000: loss 3060.706716\n",
      "iteration 70000 / 200000: loss 3036.010986\n",
      "iteration 80000 / 200000: loss 2934.481433\n",
      "iteration 90000 / 200000: loss 2773.768284\n",
      "iteration 100000 / 200000: loss 2574.896259\n",
      "iteration 110000 / 200000: loss 2923.989181\n",
      "iteration 120000 / 200000: loss 2788.028719\n",
      "iteration 130000 / 200000: loss 2923.733261\n",
      "iteration 140000 / 200000: loss 2799.588472\n",
      "iteration 150000 / 200000: loss 2762.835678\n",
      "iteration 160000 / 200000: loss 2638.381251\n",
      "iteration 170000 / 200000: loss 2753.412406\n",
      "iteration 180000 / 200000: loss 2791.319781\n",
      "iteration 190000 / 200000: loss 2783.290489\n",
      "MSE scikit-learn: 2912.521795117546\n",
      "MSE Coordinate descent model : 2864.9129740590306\n"
     ]
    }
   ],
   "source": [
    "model = LassoProjectedGradientDescent(alpha=0.1)\n",
    "model.train(X, y, learning_rate=1e-2,verbose=True, num_iters=200_000)\n",
    "pred = model.predict(X)\n",
    "mse= mean_squared_error(pred, y)\n",
    "\n",
    "sk_model = Lasso(alpha=0.1, fit_intercept=True)\n",
    "sk_model.fit(X, y)\n",
    "sk_pred = sk_model.predict(X)\n",
    "sk_mse = mean_squared_error(sk_pred, y)\n",
    "\n",
    "print(\"MSE scikit-learn:\", sk_mse)\n",
    "print(\"MSE Coordinate descent model :\", mse)\n",
    "assert mse - sk_mse < 50"
   ]
  },
  {
   "cell_type": "code",
   "execution_count": 14,
   "id": "ceb125d5",
   "metadata": {
    "deletable": false,
    "editable": false,
    "nbgrader": {
     "cell_type": "code",
     "checksum": "5302dfe9ed74a0adcd0f27c24ea15b6c",
     "grade": true,
     "grade_id": "cell-d4d95fe8b23988a9",
     "locked": true,
     "points": 3,
     "schema_version": 3,
     "solution": false,
     "task": false
    }
   },
   "outputs": [
    {
     "name": "stdout",
     "output_type": "stream",
     "text": [
      "iteration 0 / 200000: loss 29388.183288\n",
      "iteration 10000 / 200000: loss 2941.226199\n",
      "iteration 20000 / 200000: loss 2733.720440\n",
      "iteration 30000 / 200000: loss 2383.118418\n",
      "iteration 40000 / 200000: loss 2817.790370\n",
      "iteration 50000 / 200000: loss 3097.643347\n",
      "iteration 60000 / 200000: loss 2927.393473\n",
      "iteration 70000 / 200000: loss 2864.936737\n",
      "iteration 80000 / 200000: loss 2853.214005\n",
      "iteration 90000 / 200000: loss 2637.645933\n",
      "iteration 100000 / 200000: loss 2880.526350\n",
      "iteration 110000 / 200000: loss 3004.912060\n",
      "iteration 120000 / 200000: loss 2659.252430\n",
      "iteration 130000 / 200000: loss 3050.710026\n",
      "iteration 140000 / 200000: loss 3161.979292\n",
      "iteration 150000 / 200000: loss 2873.458317\n",
      "iteration 160000 / 200000: loss 2701.615498\n",
      "iteration 170000 / 200000: loss 2748.039509\n",
      "iteration 180000 / 200000: loss 2668.728784\n",
      "iteration 190000 / 200000: loss 2853.048170\n",
      "MSE scikit-learn: 5650.287416333697\n",
      "MSE Coordinate descent model : 2861.5409522955647\n"
     ]
    }
   ],
   "source": [
    "model = LassoProjectedGradientDescent(alpha=2)\n",
    "model.train(X, y, learning_rate=1e-2,verbose=True, num_iters=200_000)\n",
    "pred = model.predict(X)\n",
    "mse= mean_squared_error(pred, y)\n",
    "\n",
    "sk_model = Lasso(alpha=2, fit_intercept=True)\n",
    "sk_model.fit(X, y)\n",
    "sk_pred = sk_model.predict(X)\n",
    "sk_mse = mean_squared_error(sk_pred, y)\n",
    "\n",
    "print(\"MSE scikit-learn:\", sk_mse)\n",
    "print(\"MSE Coordinate descent model :\", mse)\n",
    "assert mse - sk_mse < 50"
   ]
  },
  {
   "cell_type": "markdown",
   "id": "06403ea0",
   "metadata": {},
   "source": [
    "# Lasso Coordinate Descent (no intercept)"
   ]
  },
  {
   "cell_type": "code",
   "execution_count": 15,
   "id": "5039af1c",
   "metadata": {
    "deletable": false,
    "nbgrader": {
     "cell_type": "code",
     "checksum": "700961f62d0be50b4d8a56693d51d147",
     "grade": false,
     "grade_id": "cell-485e52c0efd4f4a9",
     "locked": false,
     "schema_version": 3,
     "solution": true,
     "task": false
    }
   },
   "outputs": [],
   "source": [
    "class LassoCoordinateDescent():\n",
    "    def __init__(self, alpha=0.1):\n",
    "        self.w = None\n",
    "        self.alpha = alpha\n",
    "\n",
    "    def train(self, X, y, num_iters=1000):\n",
    "        N, d = X.shape\n",
    "        \n",
    "        # YOUR CODE HERE\n",
    "        # raise NotImplementedError()\n",
    "        # code from https://xavierbourretsicotte.github.io/lasso_implementation.html\n",
    "        \n",
    "        #normalizing X in case it was not done before\n",
    "        X = X / (np.linalg.norm(X, axis = 0)) \n",
    "        \n",
    "        # Initialization\n",
    "        self.w = np.ones((d,1))\n",
    "            \n",
    "        soft = np.vectorize(soft_threshold)\n",
    "        \n",
    "        #Looping until max number of iterations\n",
    "        for i in range(num_iters): \n",
    "\n",
    "            #Looping through each coordinate\n",
    "            for j in range(d):\n",
    "\n",
    "                #Vectorized implementation\n",
    "                X_j = X[:,j].reshape(-1,1)\n",
    "                y_pred = (X @ self.w).reshape(-1)\n",
    "                rho = X_j.T @ (y - y_pred.squeeze() + (self.w[j] * X_j).squeeze())\n",
    "                # no fit_intercept\n",
    "                self.w[j] = soft_threshold(rho, self.alpha)\n",
    "                \n",
    "        self.w.flatten()\n",
    "\n",
    "    def predict(self, X): \n",
    "        # YOUR CODE HERE\n",
    "        # raise NotImplementedError()\n",
    "        y_pred = X.dot(self.w)\n",
    "        return y_pred"
   ]
  },
  {
   "cell_type": "code",
   "execution_count": 16,
   "id": "ccdee31b",
   "metadata": {
    "deletable": false,
    "editable": false,
    "nbgrader": {
     "cell_type": "code",
     "checksum": "980c457daa4b6be9e9ce771fa7acbb65",
     "grade": true,
     "grade_id": "cell-a773a38c72b967e8",
     "locked": true,
     "points": 3,
     "schema_version": 3,
     "solution": false,
     "task": false
    }
   },
   "outputs": [
    {
     "name": "stdout",
     "output_type": "stream",
     "text": [
      "MSE scikit-learn: 26057.118798659812\n",
      "MSE Coordinate descent model : 26004.29770934135\n"
     ]
    }
   ],
   "source": [
    "model = LassoCoordinateDescent(alpha=0.1)\n",
    "model.train(X, y)\n",
    "pred = model.predict(X)\n",
    "mse= mean_squared_error(pred, y)\n",
    "\n",
    "sk_model = Lasso(alpha=0.1, fit_intercept=False)\n",
    "sk_model.fit(X, y)\n",
    "sk_pred = sk_model.predict(X)\n",
    "sk_mse = mean_squared_error(sk_pred, y)\n",
    "\n",
    "print(\"MSE scikit-learn:\", sk_mse)\n",
    "print(\"MSE Coordinate descent model :\", mse)\n",
    "assert mse - sk_mse < 50"
   ]
  },
  {
   "cell_type": "code",
   "execution_count": 17,
   "id": "396f7431",
   "metadata": {
    "deletable": false,
    "editable": false,
    "nbgrader": {
     "cell_type": "code",
     "checksum": "af63575c6cf174f251d81ec478828cc3",
     "grade": true,
     "grade_id": "cell-df22a0ef3e94d5fe",
     "locked": true,
     "points": 3,
     "schema_version": 3,
     "solution": false,
     "task": false
    }
   },
   "outputs": [
    {
     "name": "stdout",
     "output_type": "stream",
     "text": [
      "MSE scikit-learn: 28794.88441987604\n",
      "MSE Coordinate descent model : 26006.416566913224\n"
     ]
    }
   ],
   "source": [
    "model = LassoCoordinateDescent(alpha=2)\n",
    "model.train(X, y)\n",
    "pred = model.predict(X)\n",
    "mse= mean_squared_error(pred, y)\n",
    "\n",
    "sk_model = Lasso(alpha=2, fit_intercept=False)\n",
    "sk_model.fit(X, y)\n",
    "sk_pred = sk_model.predict(X)\n",
    "sk_mse = mean_squared_error(sk_pred, y)\n",
    "\n",
    "print(\"MSE scikit-learn:\", sk_mse)\n",
    "print(\"MSE Coordinate descent model :\", mse)\n",
    "assert mse - sk_mse < 50"
   ]
  },
  {
   "cell_type": "code",
   "execution_count": null,
   "id": "437b6ec5-a9cc-4d5c-959c-53363b8d9731",
   "metadata": {},
   "outputs": [],
   "source": []
  }
 ],
 "metadata": {
  "kernelspec": {
   "display_name": "Python 3",
   "language": "python",
   "name": "python3"
  },
  "language_info": {
   "codemirror_mode": {
    "name": "ipython",
    "version": 3
   },
   "file_extension": ".py",
   "mimetype": "text/x-python",
   "name": "python",
   "nbconvert_exporter": "python",
   "pygments_lexer": "ipython3",
   "version": "3.8.8"
  }
 },
 "nbformat": 4,
 "nbformat_minor": 5
}
