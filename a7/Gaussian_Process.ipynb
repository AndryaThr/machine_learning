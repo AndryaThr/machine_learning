{
 "cells": [
  {
   "cell_type": "markdown",
   "id": "8d68ac12-931d-4940-9a57-d29f6b5e6cea",
   "metadata": {},
   "source": [
    "# Imports"
   ]
  },
  {
   "cell_type": "code",
   "execution_count": 1,
   "id": "49df1728-5b34-49ff-a09b-84570ae6f1cf",
   "metadata": {},
   "outputs": [],
   "source": [
    "import numpy as np\n",
    "import matplotlib.pyplot as plt\n",
    "\n",
    "from sklearn.gaussian_process.kernels import RBF\n",
    "from sklearn.gaussian_process import GaussianProcessRegressor\n",
    "from sklearn.preprocessing import StandardScaler\n",
    "from sklearn.datasets import load_diabetes\n",
    "from sklearn.model_selection import train_test_split\n",
    "\n",
    "def rel_error(x, y):\n",
    "    \"\"\" returns relative error \"\"\"\n",
    "    return np.max(np.abs(x - y) / (np.maximum(1e-8, np.abs(x) + np.abs(y))))"
   ]
  },
  {
   "cell_type": "markdown",
   "id": "c160504f-0171-45e7-a614-b3cc21975568",
   "metadata": {},
   "source": [
    "# Data"
   ]
  },
  {
   "cell_type": "code",
   "execution_count": 2,
   "id": "93fe1ffd-30e2-4c87-bccf-54aec12b699d",
   "metadata": {},
   "outputs": [],
   "source": [
    "diabetes = load_diabetes()\n",
    "X, y = diabetes.data, diabetes.target\n",
    "X_train, X_test, y_train, y_test = train_test_split(X, y, test_size=0.2)"
   ]
  },
  {
   "cell_type": "markdown",
   "id": "eeeb05cf-43ea-4551-9989-be43e82d7f9d",
   "metadata": {},
   "source": [
    "# Kernel"
   ]
  },
  {
   "cell_type": "code",
   "execution_count": 3,
   "id": "bf0f1739-77ed-4580-9fd9-fa1bc7f38a1e",
   "metadata": {},
   "outputs": [],
   "source": [
    "def gaussian_kernel(X1, X2, sigma=1.0):\n",
    "    sqdist = np.sum(X1**2, 1).reshape(-1, 1) + np.sum(X2**2, 1) - 2 * np.dot(X1, X2.T)\n",
    "    return np.exp(-0.5 / sigma**2 * sqdist)"
   ]
  },
  {
   "cell_type": "markdown",
   "id": "bedb9ec4-2b9d-4b01-85b7-3253bf7fa864",
   "metadata": {},
   "source": [
    "# Implementation"
   ]
  },
  {
   "cell_type": "markdown",
   "id": "16ccab99-6e6e-4734-848f-a7fb5f0f0e20",
   "metadata": {},
   "source": [
    "https://krasserm.github.io/2018/03/19/gaussian-processes/"
   ]
  },
  {
   "cell_type": "code",
   "execution_count": 4,
   "id": "4010c1e8-889a-4edc-9383-5c21f303e62d",
   "metadata": {},
   "outputs": [],
   "source": [
    "# noise free\n",
    "\n",
    "class GaussianProcess:\n",
    "    def __init__(self, kernel=gaussian_kernel, alpha=1.0):\n",
    "        self.alpha = alpha\n",
    "        self.mu = None\n",
    "        self.sigma = None\n",
    "        self.kernel = kernel\n",
    "        \n",
    "    def fit(self, X, y):\n",
    "        n, d = X.shape\n",
    "        \n",
    "        self.mu = np.zeros_like((n, d))\n",
    "        self.sigma = np.zeros((n, n), dtype=float)\n",
    "\n",
    "        self.sigma = self.kernel(X, X, sigma=self.alpha)\n",
    "        \n",
    "        self.X = X\n",
    "        self.y = y\n",
    "        \n",
    "    def predict(self, X):\n",
    "        K_s = self.kernel(self.X, X, sigma=self.alpha) \n",
    "        K_ss = self.kernel(X, X, sigma=self.alpha)\n",
    "        K_inv = np.linalg.inv(self.sigma)\n",
    "\n",
    "        mu_s = K_s.T.dot(K_inv).dot(self.y)\n",
    "        sig_s = K_ss - K_s.T.dot(K_inv).dot(K_s)\n",
    "        \n",
    "        return mu_s, sig_s"
   ]
  },
  {
   "cell_type": "markdown",
   "id": "9a0516d0-de84-4700-9eed-7619337d8bff",
   "metadata": {},
   "source": [
    "# Test"
   ]
  },
  {
   "cell_type": "code",
   "execution_count": 5,
   "id": "ab792f1f-08b5-4455-8876-1c55a5164968",
   "metadata": {},
   "outputs": [
    {
     "name": "stdout",
     "output_type": "stream",
     "text": [
      "mean error : 6.237614473936079e-10\n",
      "var error : 2.920561612801116e-06\n"
     ]
    }
   ],
   "source": [
    "# scaling X\n",
    "scaler = StandardScaler()\n",
    "X_train = scaler.fit_transform(X_train)\n",
    "X_test = scaler.transform(X_test)\n",
    "\n",
    "# Implemented gaussian process\n",
    "model = GaussianProcess(kernel=gaussian_kernel)\n",
    "model.fit(X_train, y_train)\n",
    "mu_md , sig_md = model.predict(X_test)\n",
    "\n",
    "# sklearn gaussian process\n",
    "gauss_kernel = 1.0 * RBF(1.0)\n",
    "sk_model = GaussianProcessRegressor(kernel=gauss_kernel).fit(X_train , y_train)\n",
    "mu_sk , sig_sk = sk_model.predict(X_test , return_cov = True)\n",
    "\n",
    "# comparison\n",
    "mu_error = rel_error(mu_md , mu_sk)\n",
    "print(f'mean error : {mu_error}')\n",
    "cov_error = rel_error(sig_md , sig_sk)\n",
    "print(f'var error : {cov_error}')"
   ]
  }
 ],
 "metadata": {
  "kernelspec": {
   "display_name": "Python 3",
   "language": "python",
   "name": "python3"
  },
  "language_info": {
   "codemirror_mode": {
    "name": "ipython",
    "version": 3
   },
   "file_extension": ".py",
   "mimetype": "text/x-python",
   "name": "python",
   "nbconvert_exporter": "python",
   "pygments_lexer": "ipython3",
   "version": "3.8.8"
  }
 },
 "nbformat": 4,
 "nbformat_minor": 5
}
